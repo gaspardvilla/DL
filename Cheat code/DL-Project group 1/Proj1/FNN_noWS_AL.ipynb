{
 "cells": [
  {
   "cell_type": "code",
   "execution_count": 10,
   "metadata": {},
   "outputs": [],
   "source": [
    "import torch\n",
    "import math\n",
    "import datetime\n",
    "import time\n",
    "from torch import optim\n",
    "from torch import Tensor\n",
    "from torch.autograd import Variable\n",
    "from torch import nn\n",
    "from torch.nn import functional as F\n",
    "import dlc_practical_prologue      \n",
    "import matplotlib.pyplot as plt\n",
    "import warnings\n",
    "warnings.filterwarnings('ignore') \n",
    "size=1000;\n",
    "train_input, train_target, train_classes, test_input, test_target, test_classes = \\\n",
    "    dlc_practical_prologue.generate_pair_sets(size)\n",
    "train_input, train_target, train_classes = Variable(train_input), Variable(train_target), Variable((train_classes))\n",
    "test_input, test_target, test_classes = Variable(test_input), Variable(test_target), Variable(test_classes)\n",
    "mini_batch_size = 10\n"
   ]
  },
  {
   "cell_type": "code",
   "execution_count": 11,
   "metadata": {},
   "outputs": [],
   "source": [
    "#getting 10 different test sets to verify each model against all of them\n",
    "#the test error will be the average of the 10 test errors I get\n",
    "test_input_10 = torch.Tensor(10, 2*size, 14*14)\n",
    "test_target_10 = torch.Tensor(10, size)\n",
    "test_classes_10 = torch.Tensor(10, 2*size)\n",
    "for i in range(1,10):\n",
    "    train_input, train_target, train_classes, test_input, test_target, test_classes = \\\n",
    "    dlc_practical_prologue.generate_pair_sets(size)\n",
    "    test_input, test_target, test_classes = Variable(test_input), Variable(test_target), Variable(test_classes)\n",
    "    test_input_10[i,:,:] = test_input.reshape([2*size,196])\n",
    "    test_target_10[i,:] = test_target\n",
    "    test_classes_10[i,:] = test_classes.reshape([2*size])\n",
    "my_train_input = train_input.reshape([2*size,196])\n",
    "my_train_classes = train_classes.reshape([2*size])"
   ]
  },
  {
   "cell_type": "code",
   "execution_count": 12,
   "metadata": {},
   "outputs": [
    {
     "data": {
      "image/png": "[encoded data removed]",
      "text/plain": [
       "<Figure size 432x288 with 6 Axes>"
      ]
     },
     "metadata": {},
     "output_type": "display_data"
    }
   ],
   "source": [
    "# displaying samples of data\n",
    "fig = plt.figure()\n",
    "for i in range(6):\n",
    "  plt.subplot(2,3,i+1)\n",
    "  plt.imshow(test_input[i][0], cmap='gray', interpolation='none')\n",
    "  plt.title(\"Value: {}\".format(test_classes[i][0]))  \n",
    "  plt.tight_layout()\n",
    "  plt.xticks([])\n",
    "  plt.yticks([])"
   ]
  },
  {
   "cell_type": "code",
   "execution_count": 13,
   "metadata": {},
   "outputs": [
    {
     "data": {
      "image/png": "[encoded data removed]",
      "text/plain": [
       "<Figure size 432x288 with 6 Axes>"
      ]
     },
     "metadata": {},
     "output_type": "display_data"
    }
   ],
   "source": [
    "# displaying samples of data\n",
    "for i in range(6):\n",
    "  plt.subplot(2,3,i+1)\n",
    "  plt.imshow(test_input[i][1], cmap='gray', interpolation='none')\n",
    "  plt.title(\"Value: {}\".format(test_classes[i][1]))  \n",
    "  plt.tight_layout()\n",
    "  plt.xticks([])\n",
    "  plt.yticks([])"
   ]
  },
  {
   "cell_type": "markdown",
   "metadata": {},
   "source": [
    "# First neural net\n",
    "Train the model on all the 2000 images in train_input"
   ]
  },
  {
   "cell_type": "code",
   "execution_count": 14,
   "metadata": {},
   "outputs": [],
   "source": [
    "train_input, train_target, train_classes, test_input, test_target, test_classes = \\\n",
    "    dlc_practical_prologue.generate_pair_sets(size)\n",
    "train_input, train_target, train_classes = Variable(train_input), Variable(train_target), Variable((train_classes))\n",
    "test_input, test_target, test_classes = Variable(test_input), Variable(test_target), Variable(test_classes)\n",
    "\n",
    "my_train_input = train_input.reshape([2*size,196])\n",
    "my_train_classes = train_classes.reshape([2*size])\n",
    "\n",
    "my_train_input1 = train_input[:,0,:]\n",
    "my_train_input2 = train_input[:,1,:]\n",
    "my_train_classes1 = train_classes[0:size,0]\n",
    "my_train_classes2 = train_classes[0:size,1]\n",
    "\n",
    "my_test_input1 = test_input[:,0,:]\n",
    "my_test_input2 = test_input[:,1,:]\n",
    "my_test_classes1 = test_classes[0:size,0]\n",
    "my_test_classes2 = test_classes[0:size,1]"
   ]
  },
  {
   "cell_type": "code",
   "execution_count": 19,
   "metadata": {},
   "outputs": [],
   "source": [
    "# number of epoch\n",
    "num_epochs = 25\n",
    "# batch size to compute mini-batch\n",
    "batch_size = 100\n",
    "# number of pixels in the image \n",
    "input_size = 196\n",
    "# number of possible digit: 0 to 9 \n",
    "num_class = 2\n",
    "# small step to find a minima\n",
    "learning_rate = 0.001\n",
    "# hidden size\n",
    "hidden_size = 50\n",
    "# drop out\n",
    "dropout_p = 0"
   ]
  },
  {
   "cell_type": "code",
   "execution_count": 20,
   "metadata": {},
   "outputs": [],
   "source": [
    "def test_accuracy_based_on_imgs(model_, my_test_input1_, my_test_input2_, test_target_):\n",
    "    total = my_test_input1_.size(0)\n",
    "    out1, out2, result = model_(my_test_input1_, my_test_input2_, total)\n",
    "\n",
    "    _, predictions1 = torch.max(out1.data, 1)\n",
    "    _, predictions2 = torch.max(out2.data, 1)\n",
    "    predictions = (predictions1 <= predictions2).long()\n",
    "\n",
    "    well_predicted_count = (predictions == test_target_).sum().item()\n",
    "\n",
    "    return 1 - well_predicted_count / total"
   ]
  },
  {
   "cell_type": "code",
   "execution_count": 21,
   "metadata": {},
   "outputs": [],
   "source": [
    "def test_accuracy_based_on_result(model_, my_test_input1_, my_test_input2_, test_target_):\n",
    "    total = my_test_input1_.size(0)\n",
    "    out1, out2, result = model_(my_test_input1_, my_test_input2_, total)\n",
    "    _, predictions = torch.max(result.data, 1)\n",
    "    well_predicted_count = (predictions == test_target_).sum().item()\n",
    "    return 1 - well_predicted_count / total"
   ]
  },
  {
   "cell_type": "code",
   "execution_count": 22,
   "metadata": {},
   "outputs": [],
   "source": [
    "def train_model(model_, my_train_input1_, my_train_input2_, my_test_classes1, my_test_classes2, train_target_, criterion_, optimizer_,num_epochs_,batch_size_):\n",
    "\n",
    "    train_error_based_on_imgs = []\n",
    "    train_error_based_on_result = []\n",
    "    test_error_based_on_imgs = []\n",
    "    test_error_based_on_result = []\n",
    "    # train function\n",
    "    \n",
    "    lambda_ = lambda epoch: 0.95 ** epoch\n",
    "    scheduler = torch.optim.lr_scheduler.LambdaLR(optimizer_, lr_lambda=lambda_)\n",
    "    \n",
    "    for epoch in range(1, num_epochs_+1):\n",
    "        for i in range(int(len(my_train_input1_)/batch_size_)):  \n",
    "            # Move tensors to the configured device\n",
    "            images1 = my_train_input1_.narrow(0,i*batch_size_,batch_size_)\n",
    "            images2 = my_train_input2_.narrow(0,i*batch_size_,batch_size_)\n",
    "            labels1 = my_test_classes1.narrow(0,i*batch_size_,batch_size_)\n",
    "            labels2 = my_test_classes2.narrow(0,i*batch_size_,batch_size_)\n",
    "            target_labels = train_target_.narrow(0,i*batch_size_,batch_size_)\n",
    "            \n",
    "            # Forward pass\n",
    "            out1, out2, result = model_(images1, images2, batch_size_)\n",
    "\n",
    "            loss1 = criterion_(out1, labels1)\n",
    "            loss2 = criterion_(out2, labels2)\n",
    "            loss3 = criterion_(result, target_labels)\n",
    "            real_loss = loss1 + loss2 + loss3\n",
    "\n",
    "            # Backward and optimize\n",
    "            optimizer_.zero_grad()\n",
    "            real_loss.backward()\n",
    "            optimizer_.step()            \n",
    "\n",
    "\n",
    "        scheduler.step()\n",
    "    train_error_based_on_imgs.append(test_accuracy_based_on_imgs(model_, my_train_input1_, my_train_input2_, train_target))\n",
    "    train_error_based_on_result.append(test_accuracy_based_on_result(model_, my_train_input1_, my_train_input2_, train_target))\n",
    "    test_error_based_on_imgs.append(test_accuracy_based_on_imgs(model_, my_test_input1, my_test_input2, test_target))\n",
    "    test_error_based_on_result.append(test_accuracy_based_on_result(model_, my_test_input1, my_test_input2, test_target))\n",
    "\n",
    "    if(epoch == 25):    \n",
    "        print ('Loss: {:.4f} on epoch: {}, train error based on imgs and result: {:.5f}, {:.5f}; test error: {:.5f}, {:.5f}'.format(real_loss.item(),epoch,train_error_based_on_imgs[-1],train_error_based_on_result[-1],test_error_based_on_imgs[-1],test_error_based_on_result[-1]))\n",
    "    return train_error_based_on_imgs, train_error_based_on_result, test_error_based_on_imgs, test_error_based_on_result"
   ]
  },
  {
   "cell_type": "code",
   "execution_count": 23,
   "metadata": {},
   "outputs": [
    {
     "name": "stdout",
     "output_type": "stream",
     "text": [
      "Loss: 0.8851 on epoch: 25, train error based on imgs and result: 0.03600, 0.24200; test error: 0.14000, 0.28400\n"
     ]
    }
   ],
   "source": [
    "class NeuralNet(nn.Module):\n",
    "    def __init__(self, input_size, hidden_size, num_class):\n",
    "        super(NeuralNet, self).__init__()\n",
    "        self.layer1 = nn.Linear(input_size, hidden_size) \n",
    "        self.relu = nn.ReLU() \n",
    "        self.layer2 = nn.Linear(hidden_size, hidden_size)  \n",
    "        self.layer3 = nn.Linear(hidden_size, 10) \n",
    "        \n",
    "        \n",
    "        self.layer1_ = nn.Linear(input_size, hidden_size) \n",
    "        self.layer2_ = nn.Linear(hidden_size, hidden_size)  \n",
    "        self.layer3_ = nn.Linear(hidden_size, 10) \n",
    "        \n",
    "        self.layer1_comp = nn.Linear(20, 200) \n",
    "        self.layer2_comp = nn.Linear(200, 200)  \n",
    "        self.layer3_comp = nn.Linear(200, 2)\n",
    "    \n",
    "    def forward(self, img1, img2, batch_size_images):\n",
    "        img1 = img1.reshape(batch_size_images,196)\n",
    "        out1 = self.layer1(img1)\n",
    "        out1 = self.relu(out1)\n",
    "        out1 = self.layer2(out1)\n",
    "        out1 = self.relu(out1)\n",
    "        out1 = self.layer3(out1)\n",
    "        \n",
    "        img2 = img2.reshape(batch_size_images,196)\n",
    "        out2 = self.layer1_(img2)\n",
    "        out2 = self.relu(out2)\n",
    "        out2 = self.layer2_(out2)\n",
    "        out2 = self.relu(out2)\n",
    "        out2 = self.layer3_(out2)\n",
    "\n",
    "        result = torch.cat((out1,out2), dim=1, out=None)\n",
    "        \n",
    "        result = self.layer1_comp(result)\n",
    "        result = self.relu(result)\n",
    "        result = self.layer2_comp(result)\n",
    "        result = self.relu(result)\n",
    "        result = self.layer3_comp(result)\n",
    "        \n",
    "        return out1, out2, result\n",
    "  \n",
    "# creating neural net\n",
    "model = NeuralNet(input_size, hidden_size, num_class)\n",
    "\n",
    "# CrossEntropyLoss and optimizer which minimize loss with learning rate step\n",
    "criterion = nn.CrossEntropyLoss()\n",
    "\n",
    "optimizer = torch.optim.SGD(model.parameters(), lr=learning_rate) \n",
    "\n",
    "train_error_based_on_imgs, train_error_based_on_result, test_error_based_on_imgs, test_error_based_on_result = train_model(model, my_train_input1, my_train_input2, my_train_classes1, my_train_classes2, train_target, criterion, optimizer, num_epochs, 50)"
   ]
  },
  {
   "cell_type": "code",
   "execution_count": 24,
   "metadata": {},
   "outputs": [
    {
     "name": "stdout",
     "output_type": "stream",
     "text": [
      "Loss: 0.0000 on epoch: 25, train error based on imgs and result: 0.00000, 0.00000; test error: 0.07700, 0.11900\n",
      "Loss: 0.0000 on epoch: 25, train error based on imgs and result: 0.00100, 0.00000; test error: 0.06900, 0.09500\n",
      "Loss: 0.0003 on epoch: 25, train error based on imgs and result: 0.00000, 0.00000; test error: 0.07000, 0.12100\n",
      "Loss: 0.0000 on epoch: 25, train error based on imgs and result: 0.00100, 0.00000; test error: 0.08400, 0.11600\n",
      "Loss: 0.0000 on epoch: 25, train error based on imgs and result: 0.00000, 0.00000; test error: 0.07100, 0.11100\n",
      "Loss: 0.0111 on epoch: 25, train error based on imgs and result: 0.00000, 0.00000; test error: 0.09500, 0.11500\n",
      "Loss: 0.0000 on epoch: 25, train error based on imgs and result: 0.00000, 0.00000; test error: 0.07300, 0.09900\n",
      "Loss: 0.0032 on epoch: 25, train error based on imgs and result: 0.00200, 0.00000; test error: 0.07900, 0.10500\n",
      "Loss: 0.0000 on epoch: 25, train error based on imgs and result: 0.00000, 0.00000; test error: 0.07300, 0.09100\n",
      "Loss: 0.0028 on epoch: 25, train error based on imgs and result: 0.00000, 0.00000; test error: 0.07700, 0.11300\n"
     ]
    }
   ],
   "source": [
    "train_img = []\n",
    "train_comp = []\n",
    "\n",
    "test_img = []\n",
    "test_comp = []\n",
    "\n",
    "for i in range(10):\n",
    "    train_input, train_target, train_classes, test_input, test_target, test_classes = \\\n",
    "    dlc_practical_prologue.generate_pair_sets(size)\n",
    "    train_input, train_target, train_classes = Variable(train_input), Variable(train_target), Variable((train_classes))\n",
    "    test_input, test_target, test_classes = Variable(test_input), Variable(test_target), Variable(test_classes)\n",
    "\n",
    "    my_train_input = train_input.reshape([2*size,196])\n",
    "    my_train_classes = train_classes.reshape([2*size])\n",
    "\n",
    "    my_train_input1 = train_input[:,0,:]\n",
    "    my_train_input2 = train_input[:,1,:]\n",
    "    my_train_classes1 = train_classes[0:size,0]\n",
    "    my_train_classes2 = train_classes[0:size,1]\n",
    "\n",
    "    my_test_input1 = test_input[:,0,:]\n",
    "    my_test_input2 = test_input[:,1,:]\n",
    "    my_test_classes1 = test_classes[0:size,0]\n",
    "    my_test_classes2 = test_classes[0:size,1]\n",
    "    # creating neural net\n",
    "    model = NeuralNet(input_size, hidden_size, num_class)\n",
    "\n",
    "    # CrossEntropyLoss and optimizer which minimize loss with learning rate step\n",
    "    criterion = nn.CrossEntropyLoss()\n",
    "\n",
    "    optimizer = torch.optim.SGD(model.parameters(), lr=learning_rate) \n",
    "\n",
    "    train_error_based_on_imgs, train_error_based_on_result, test_error_based_on_imgs, test_error_based_on_result = train_model(model, my_train_input1, my_train_input2, my_train_classes1, my_train_classes2, train_target, criterion, optimizer, num_epochs, 1)\n",
    "    train_img.append(train_error_based_on_imgs)\n",
    "    train_comp.append(train_error_based_on_result)\n",
    "    test_img.append(test_error_based_on_imgs)\n",
    "    test_comp.append(test_error_based_on_result)"
   ]
  },
  {
   "cell_type": "code",
   "execution_count": 25,
   "metadata": {},
   "outputs": [
    {
     "name": "stdout",
     "output_type": "stream",
     "text": [
      "0.007467261881037794\n",
      "0.009912113800799514\n"
     ]
    }
   ],
   "source": [
    "import numpy as np\n",
    "print(np.std(test_img))\n",
    "print(np.std(test_comp))"
   ]
  },
  {
   "cell_type": "code",
   "execution_count": 26,
   "metadata": {},
   "outputs": [
    {
     "name": "stdout",
     "output_type": "stream",
     "text": [
      "0.07679999999999995\n",
      "0.1085\n"
     ]
    }
   ],
   "source": [
    "print(np.mean(test_img))\n",
    "print(np.mean(test_comp))"
   ]
  },
  {
   "cell_type": "code",
   "execution_count": null,
   "metadata": {},
   "outputs": [],
   "source": [
    "plt.plot(train_error_based_on_imgs, 'r', train_error_based_on_result, 'r--', test_error_based_on_imgs, 'b', test_error_based_on_result, 'b--')\n",
    "plt.ylabel('some numbers')\n",
    "plt.title(\"Train error in red, test error in blue over the epoch\")\n",
    "plt.show()"
   ]
  },
  {
   "cell_type": "code",
   "execution_count": null,
   "metadata": {},
   "outputs": [],
   "source": [
    "print(\"Accuracy: {}\".format(1-min(test_error_based_on_imgs)))"
   ]
  },
  {
   "cell_type": "code",
   "execution_count": null,
   "metadata": {},
   "outputs": [],
   "source": []
  }
 ],
 "metadata": {
  "kernelspec": {
   "display_name": "Python 3",
   "language": "python",
   "name": "python3"
  },
  "language_info": {
   "codemirror_mode": {
    "name": "ipython",
    "version": 3
   },
   "file_extension": ".py",
   "mimetype": "text/x-python",
   "name": "python",
   "nbconvert_exporter": "python",
   "pygments_lexer": "ipython3",
   "version": "3.6.5"
  }
 },
 "nbformat": 4,
 "nbformat_minor": 2
}
