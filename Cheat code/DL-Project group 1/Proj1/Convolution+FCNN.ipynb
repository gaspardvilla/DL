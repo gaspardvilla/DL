{
 "cells": [
  {
   "cell_type": "code",
   "execution_count": 126,
   "metadata": {},
   "outputs": [],
   "source": [
    "import torch\n",
    "import math\n",
    "import time\n",
    "from torch import optim\n",
    "from torch import Tensor\n",
    "from torch.autograd import Variable\n",
    "from torch import nn\n",
    "from torch.nn import functional as F\n",
    "import dlc_practical_prologue      \n",
    "size=1000;\n",
    "train_input, train_target, train_classes, test_input, test_target, test_classes = \\\n",
    "    dlc_practical_prologue.generate_pair_sets(size)\n",
    "train_input, train_target, train_classes = Variable(train_input), Variable(train_target), Variable((train_classes))\n",
    "test_input, test_target, test_classes = Variable(test_input), Variable(test_target), Variable(test_classes)\n",
    "mini_batch_size = 100\n"
   ]
  },
  {
   "cell_type": "code",
   "execution_count": 2,
   "metadata": {},
   "outputs": [],
   "source": [
    "#    Train_classes_One_Hot_IM1=dlc_practical_prologue.convert_to_one_hot_labels(train_input.narrow(1,0,1), train_classes.narrow(1,0,1))\n",
    "#    Train_classes_One_Hot_IM2=dlc_practical_prologue.convert_to_one_hot_labels(train_input.narrow(1,1,1), train_classes.narrow(1,1,1))\n"
   ]
  },
  {
   "cell_type": "markdown",
   "metadata": {},
   "source": [
    "The goal of this project is to implement a deep network such that, given as input a series of 2×14×14 tensor, corresponding to pairs of 14 × 14 grayscale images, it predicts for each pair if the first digit is lesser or equal to the second.\n",
    "\n",
    "The training and test set should be 1, 000 pairs each, and the size of the images allows to run experiments rapidly, even in the VM with a single core and no GPU.\n",
    "\n",
    "You can generate the data sets to use with the function generate_pair_sets(N) defined in the file dlc_practical_prologue.py.\n",
    "\n",
    "|      Name     | Tensor Dimension |   Type  |                  Content                 |\n",
    "|:-------------:|:----------------:|:-------:|:----------------------------------------:|\n",
    "|  Train_input  |  N x 2 x 14 x 14 | float32 |                  Images                  |\n",
    "|  Train_target |         N        |  int64  |          Class to predict €{0,1}         |\n",
    "| Train_classes |       N x 2      |  int64  | Classes of the two digits € {0, ... ,9 } |\n",
    "|   Test_input  |  N x 2 x 14 x 14 | float32 |                  Images                  |\n",
    "|  Test_target  |         N        |  int64  |          Class to predict €{0,1}         |\n",
    "|  Test_classes |       N x 2      |  int64  | Classes of the two digits € {0, ... ,9 } |\n",
    "\n",
    "The goal of the project is to compare different architectures, and assess the performance improvement that can be achieved through weight sharing, or using auxiliary losses.\n",
    "\n",
    "For the latter, the training can in particular take advantage of the availability of the classes of the two digits in each pair, beside the Boolean value truly of interest.\n",
    "\n",
    "All the experiments should be done with 1, 000 pairs for training and test. A convnet with ∼ 70, 000 parameters can be trained with 25 epochs in the VM in less than 2s and should achieve ∼ 15% error rate.\n",
    "\n",
    "Performance estimates provided in your report should be estimated through 10+ rounds for each architecture, where both data and weight initialization are randomized, and you should provide estimates of standard deviations.\n"
   ]
  },
  {
   "cell_type": "markdown",
   "metadata": {},
   "source": [
    "Model sharing weights + boolean comparison at the end :"
   ]
  },
  {
   "cell_type": "code",
   "execution_count": 304,
   "metadata": {},
   "outputs": [],
   "source": [
    "class Full_Model(nn.Module):\n",
    "    def __init__(self, nb_hidden,nb_hidden2):\n",
    "        super(Full_Model, self).__init__()\n",
    "        \"\"\"Modele 1 for digit recognition\"\"\"\n",
    "        self.conv1 = nn.Conv2d(1, 32, kernel_size=5)\n",
    "        self.conv2 = nn.Conv2d(32, 64, kernel_size=5)\n",
    "        self.Layer1 = nn.Linear(64, nb_hidden)\n",
    "        self.Layer2 = nn.Linear(nb_hidden, 10)\n",
    "        \"\"\"Modele 2 for digit comparison\"\"\"\n",
    "        self.Digit = nn.Linear(20, nb_hidden2)\n",
    "        self.Digit2 = nn.Linear(nb_hidden2, 2)\n",
    "    def forward(self,input_):\n",
    "        img1=input_.narrow(1, 0,1);\n",
    "        img2=input_.narrow(1, 1,1);\n",
    "        x=F.relu(F.max_pool2d(self.conv1(img1), kernel_size=2, stride=2))\n",
    "        x=F.relu((self.conv2(x)))\n",
    "        x = F.relu(self.Layer1(x.view(-1, 64)))\n",
    "        x = self.Layer2(x)\n",
    "        y=F.relu(F.max_pool2d(self.conv1(img2), kernel_size=2, stride=2))\n",
    "        y=F.relu((self.conv2(y)))\n",
    "        y = F.relu(self.Layer1(y.view(-1, 64)))\n",
    "        y = self.Layer2(y)\n",
    "        xy=torch.cat((x,y),1)\n",
    "        z= F.relu(self.Digit(xy))\n",
    "        z= self.Digit2(z)\n",
    "        #z=xy\n",
    "        Classe_X = (torch.argmax(x,1))\n",
    "        Classe_Y = (torch.argmax(y,1))\n",
    "        z2=Classe_X<=Classe_Y\n",
    "        return   x,y,z,z2\n",
    "def train_model(model, train_input, train_classes,train_target):\n",
    "    criterion = nn.CrossEntropyLoss()\n",
    "    optimizer = torch.optim.SGD(model.parameters(), lr=0.001, momentum=0.005)\n",
    "    nb_epochs = 25\n",
    "    sum_array=[]\n",
    "    for e in range(nb_epochs):  \n",
    "        sum_loss=0\n",
    "        for b in range(0, train_input.size(0), mini_batch_size):\n",
    "            output = model(train_input.narrow(0, b, mini_batch_size))\n",
    "            loss0 = criterion(output[0], train_classes.narrow(0, b, mini_batch_size).narrow(1,0,1).view(-1))#Loss for Img1\n",
    "            loss1 = criterion(output[1], train_classes.narrow(0, b, mini_batch_size).narrow(1,1,1).view(-1))#Loss for Img2\n",
    "            loss2 = criterion(output[2], train_target.narrow(0, b, mini_batch_size))#Loss for total model\n",
    "            loss_T=1*loss0 + 1*loss1 +1*loss2  \n",
    "            model.zero_grad()\n",
    "            loss_T.backward()\n",
    "            optimizer.step()\n",
    "            sum_loss= sum_loss + loss_T.item()\n",
    "        sum_array.append(sum_loss)\n",
    "    return e, sum_array \n",
    "def compute_nb_errors(model, data_input, data_classe,data_target):\n",
    "    nb_data_errors_im1 = 0\n",
    "    nb_data_errors_im2 = 0\n",
    "    nb_data_errors_Final = 0\n",
    "    nb_data_errors_Final2 = 0\n",
    "\n",
    "    for b in range(0, data_input.size(0), mini_batch_size):\n",
    "        output = model(data_input.narrow(0, b, mini_batch_size))\n",
    "        _, predicted_classes_images0 = torch.max(output[0].data, 1)#Display error for Img0\n",
    "        _, predicted_classes_images1 = torch.max(output[1].data, 1)#Display error for Img1\n",
    "        _, predicted_classes_output = torch.max(output[2].data, 1)#Display error for ouput\n",
    "        predicted_classes_output2=output[3]\n",
    "        for k in range(mini_batch_size):\n",
    "            if data_classe.data[b + k][0] != predicted_classes_images0[k]:\n",
    "                nb_data_errors_im1 = nb_data_errors_im1 + 1\n",
    "            if data_classe.data[b + k][1] != predicted_classes_images1[k]:\n",
    "                nb_data_errors_im2 = nb_data_errors_im2 + 1\n",
    "            if data_target.data[b + k] != predicted_classes_output[k]:\n",
    "                nb_data_errors_Final = nb_data_errors_Final + 1\n",
    "            if data_target.data[b + k] != predicted_classes_output2[k].long():\n",
    "                nb_data_errors_Final2 = nb_data_errors_Final2 + 1\n",
    "    return nb_data_errors_im1, nb_data_errors_im2, nb_data_errors_Final, nb_data_errors_Final2"
   ]
  },
  {
   "cell_type": "raw",
   "metadata": {},
   "source": [
    "To test and measure error"
   ]
  },
  {
   "cell_type": "code",
   "execution_count": null,
   "metadata": {},
   "outputs": [],
   "source": [
    "#return   x,y, z\n",
    "#         0  1  2  3    4   5  6\n",
    "Array_error_H=[]\n",
    "for Nb_hidden in [10,100,200,500,1000] :\n",
    "    Array_error_H2=[]\n",
    "    for Nb_hidden2 in [10,100,200,500,1000] :\n",
    "        model=Full_Model(Nb_hidden,Nb_hidden2);\n",
    "        e, sum_array_epoch= train_model(model, train_input, train_classes,train_target)\n",
    "        Output=compute_nb_errors(model,train_input,train_classes,train_target)\n",
    "        print(\"H: \" + str(Nb_hidden)+\" H2: \" + str(Nb_hidden2)+ ' Output_train : Im1 {}% Im2 {}% O{}% O_{}%\\n'.format(Output[0]/10,Output[1]/10,Output[2]/10,Output[3]/10))\n",
    "        Output=compute_nb_errors(model,test_input,test_classes,test_target)\n",
    "        print(\"H: \" + str(Nb_hidden)+\" H2: \" + str(Nb_hidden2)+ ' Output_test : Im1 {}% Im2 {}% O{}% O_{}%\\n'.format(Output[0]/10,Output[1]/10,Output[2]/10,Output[3]/10))\n",
    "        Array_error_H2.append(Output)\n",
    "    Array_error_H.append(Array_error_H2)\n",
    "        "
   ]
  },
  {
   "cell_type": "code",
   "execution_count": 306,
   "metadata": {},
   "outputs": [
    {
     "name": "stdout",
     "output_type": "stream",
     "text": [
      "H: 100 H2: 100 Output_train : Im1 5.5% Im2 6.7% O20.6% O_5.1%\n",
      "\n",
      "H: 100 H2: 100 Output_test : Im1 10.3% Im2 8.7% O23.7% O_6.8%\n",
      "\n"
     ]
    }
   ],
   "source": [
    "Nb_hidden=100\n",
    "Nb_hidden2=100\n",
    "\n",
    "model=Full_Model(Nb_hidden,Nb_hidden2);\n",
    "e, sum_array_epoch= train_model(model, train_input, train_classes,train_target)\n",
    "Output=compute_nb_errors(model,train_input,train_classes,train_target)\n",
    "print(\"H: \" + str(Nb_hidden)+\" H2: \" + str(Nb_hidden2)+ ' Output_train : Im1 {}% Im2 {}% O{}% O_{}%\\n'.format(Output[0]/10,Output[1]/10,Output[2]/10,Output[3]/10))\n",
    "Output=compute_nb_errors(model,test_input,test_classes,test_target)\n",
    "print(\"H: \" + str(Nb_hidden)+\" H2: \" + str(Nb_hidden2)+ ' Output_test : Im1 {}% Im2 {}% O{}% O_{}%\\n'.format(Output[0]/10,Output[1]/10,Output[2]/10,Output[3]/10))\n"
   ]
  },
  {
   "cell_type": "code",
   "execution_count": null,
   "metadata": {},
   "outputs": [],
   "source": [
    "H: 100 H2: 100 Output_train : Im1 4.2% Im2 4.9% O9.9% O_3.0%\n",
    "\n",
    "H: 100 H2: 100 Output_test : Im1 9.1% Im2 8.5% O16.5% O_5.7%"
   ]
  },
  {
   "cell_type": "code",
   "execution_count": 219,
   "metadata": {},
   "outputs": [
    {
     "data": {
      "image/png": "[encoded data removed]",
      "text/plain": [
       "<Figure size 432x288 with 2 Axes>"
      ]
     },
     "execution_count": 219,
     "metadata": {},
     "output_type": "execute_result"
    },
    {
     "data": {
      "image/png": "[encoded data removed]",
      "text/plain": [
       "<Figure size 432x288 with 2 Axes>"
      ]
     },
     "metadata": {
      "needs_background": "light"
     },
     "output_type": "display_data"
    }
   ],
   "source": [
    "import matplotlib.pyplot as plt\n",
    "\n",
    "def prepare_standardplot(title, xlabel):\n",
    "    fig, (ax1, ax2) = plt.subplots(1, 2)\n",
    "    fig.suptitle(title)\n",
    "    ax1.set_ylabel('categorical cross entropy')\n",
    "    ax1.set_xlabel(xlabel)\n",
    "    ax1.set_yscale('log')\n",
    "    ax2.set_ylabel('accuracy [% correct]')\n",
    "    ax2.set_xlabel(xlabel)\n",
    "    return fig, ax1, ax2\n",
    "\n",
    "def finalize_standardplot(fig, ax1, ax2):\n",
    "    ax1handles, ax1labels = ax1.get_legend_handles_labels()\n",
    "    if len(ax1labels) > 0:\n",
    "        ax1.legend(ax1handles, ax1labels)\n",
    "    ax2handles, ax2labels = ax2.get_legend_handles_labels()\n",
    "    if len(ax2labels) > 0:\n",
    "        ax2.legend(ax2handles, ax2labels)\n",
    "    fig.tight_layout()\n",
    "    plt.subplots_adjust(top=0.9)\n",
    "\n",
    "def plot_history(history, title):\n",
    "    fig, ax1, ax2 = prepare_standardplot(title, 'epoch')\n",
    "    ax1.plot(history, label = \"training\")\n",
    "    finalize_standardplot(fig, ax1, ax2)\n",
    "    return fig\n",
    "\n",
    "plot_history(sum_array_epoch,\"Loss\")"
   ]
  },
  {
   "cell_type": "code",
   "execution_count": null,
   "metadata": {},
   "outputs": [],
   "source": []
  }
 ],
 "metadata": {
  "kernelspec": {
   "display_name": "Python 3",
   "language": "python",
   "name": "python3"
  },
  "language_info": {
   "codemirror_mode": {
    "name": "ipython",
    "version": 3
   },
   "file_extension": ".py",
   "mimetype": "text/x-python",
   "name": "python",
   "nbconvert_exporter": "python",
   "pygments_lexer": "ipython3",
   "version": "3.7.2"
  }
 },
 "nbformat": 4,
 "nbformat_minor": 2
}
