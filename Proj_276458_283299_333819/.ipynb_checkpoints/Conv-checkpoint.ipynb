{
 "cells": [
  {
   "cell_type": "code",
   "execution_count": 1,
   "metadata": {},
   "outputs": [],
   "source": [
    "# -*- coding: utf-8 -*-\n",
    "\"\"\"\n",
    "Created on Wed Apr 28 09:11:04 2021\n",
    "\n",
    "@author: aurel\n",
    "\"\"\"\n",
    "import torch\n",
    "import dlc_practical_prologue as prologue\n",
    "\n",
    "from torch import optim\n",
    "from torch.nn import functional as F\n",
    "from torch import nn\n",
    "from torch.autograd import Variable\n",
    "\n",
    "\n",
    "######################################################################\n",
    "def compute_nb_errors(model, data_input, data_target, mini_batch_size):\n",
    "\n",
    "    nb_data_errors = 0\n",
    "\n",
    "    for b in range(0, data_input.size(0), mini_batch_size):\n",
    "        output = model(data_input.narrow(0, b, mini_batch_size))\n",
    "        _, predicted_classes = torch.max(output, 1)\n",
    "        for k in range(mini_batch_size):\n",
    "            if data_target[b + k] != predicted_classes[k]:\n",
    "                nb_data_errors = nb_data_errors + 1\n",
    "\n",
    "    return nb_data_errors"
   ]
  },
  {
   "cell_type": "code",
   "execution_count": 2,
   "metadata": {},
   "outputs": [],
   "source": [
    "######################################################################\n",
    "def train_model(model, train_input, train_target, nb_epochs, mini_batch_size):\n",
    "    criterion = nn.CrossEntropyLoss()\n",
    "    eta = 1e-3\n",
    "    optimizer = optim.SGD(model.parameters(), lr = eta)\n",
    "\n",
    "    for e in range(nb_epochs):\n",
    "        acc_loss = 0\n",
    "        \n",
    "        for b in range(0, train_input.size(0), mini_batch_size):\n",
    "            output = model(train_input.narrow(0, b, mini_batch_size))\n",
    "            loss = criterion(output, train_target.narrow(0, b, mini_batch_size))\n",
    "            acc_loss = acc_loss + loss.item()\n",
    "            model.zero_grad()\n",
    "            loss.backward()\n",
    "            optimizer.step()\n",
    "    \n",
    "        # print(e, acc_loss)"
   ]
  },
  {
   "cell_type": "code",
   "execution_count": 3,
   "metadata": {},
   "outputs": [],
   "source": [
    "######################################################################            \n",
    "# def eval_Model(model, mini_batch_size, nb_epochs):\n"
   ]
  },
  {
   "cell_type": "code",
   "execution_count": 4,
   "metadata": {},
   "outputs": [],
   "source": [
    "######################################################################   \n",
    "class FirstConvNet(nn.Module):\n",
    "    def __init__(self):\n",
    "        super(FirstConvNet, self).__init__()\n",
    "        #Input channels = 2, output channels = 32\n",
    "        self.layer1 = nn.Sequential(\n",
    "            nn.Conv2d(2, 32, kernel_size = 3, padding = 1),\n",
    "            nn.ReLU(),\n",
    "            nn.MaxPool2d(kernel_size=2))\n",
    "        \n",
    "        #Input channels = 32, output channels = 64\n",
    "        self.layer2 = nn.Sequential(\n",
    "            nn.Conv2d(32, 64, kernel_size = 2, padding = 1),\n",
    "            nn.ReLU(),\n",
    "            nn.MaxPool2d(kernel_size=2))\n",
    "        \n",
    "        \n",
    "        # Formula to get out_put size (in_size - kernel_size + 2*(padding)) / stride) + 1\n",
    "        # first layer (14-5+2*2)/1 +1 = 14/2 = 7\n",
    "        # second layer (7 -4 +2*2)/1 +1 = 8/2 = 4\n",
    "        # 4 * 4 * 64 input features, 1000 output features\n",
    "        self.fc1 = nn.Linear(4 * 4 * 64, 1000)\n",
    "        \n",
    "        # 1000 input features, 2 output features\n",
    "        self.fc2 = nn.Linear(1000, 2)\n",
    "        \n",
    "    def forward(self, x):\n",
    "        # Activation of the first convolution \n",
    "        # size (batch, 32 ,7 ,7)\n",
    "        out = self.layer1(x)\n",
    "        \n",
    "        # Activation of the first convolution \n",
    "        # size (batch, 64 ,4 ,4)\n",
    "        out = self.layer2(out)\n",
    "        \n",
    "        # Reshape (batch, 1024)\n",
    "        out = out.reshape(out.size(0), -1)\n",
    "        \n",
    "        \n",
    "        # Relu activation of last layer \n",
    "        out = F.relu(self.fc1(out.view(-1,4 * 4 * 64)))\n",
    "        \n",
    "        out = self.fc2(out)\n",
    "        return out"
   ]
  },
  {
   "cell_type": "code",
   "execution_count": null,
   "metadata": {},
   "outputs": [
    {
     "name": "stdout",
     "output_type": "stream",
     "text": [
      "Downloading http://yann.lecun.com/exdb/mnist/train-images-idx3-ubyte.gz to ./data/mnist/MNIST/raw/train-images-idx3-ubyte.gz\n"
     ]
    },
    {
     "data": {
      "application/vnd.jupyter.widget-view+json": {
       "model_id": "36066029b4cb43ccad551de4f4679f82",
       "version_major": 2,
       "version_minor": 0
      },
      "text/plain": [
       "HBox(children=(FloatProgress(value=1.0, bar_style='info', max=1.0), HTML(value='')))"
      ]
     },
     "metadata": {},
     "output_type": "display_data"
    }
   ],
   "source": [
    "    \n",
    "######################################################################   \n",
    "    \n",
    "train_input, train_target, train_classes, test_input, test_target, test_classes \\\n",
    "    = prologue.generate_pair_sets(1000)\n",
    "    \n",
    "\n",
    "# train_input, train_target, train_classes \\\n",
    "#     = Variable(train_input), Variable(train_target), Variable(train_classes)\n",
    "# test_input, test_target, test_classes \\\n",
    "#     = Variable(test_input), Variable(test_target), Variable(test_classes)\n",
    "\n",
    "def get_tests(n):\n",
    "    M = []\n",
    "    for k in range (0, n):\n",
    "        L = []\n",
    "        _, _, _, test_input, test_target, test_classes =  prologue.generate_pair_sets(1000)\n",
    "        L.append(test_input)\n",
    "        L.append(test_target)\n",
    "        L.append(test_classes)\n",
    "        M.append(L)\n",
    "    return M\n",
    "\n",
    "\n",
    "model = FirstConvNet()\n",
    "nb_epochs = 25\n",
    "mini_batch_size = 100\n",
    "\n",
    "train_model(model, train_input, train_target, nb_epochs, mini_batch_size)\n",
    "L = get_tests(10)\n",
    "nb_moy_test_error = 0\n",
    "nb_train_errors = compute_nb_errors(model, train_input, train_target, mini_batch_size)\n",
    "print('train error FirstConvNet {:0.2f}%{:d}/{:d}'.format((100 * nb_train_errors) / train_input.size(0),\n",
    "                                        nb_train_errors, train_input.size(0)))\n",
    "for k in range (0, len(L)):\n",
    "    nb_test_errors = compute_nb_errors(model, L[k][0], L[k][1], mini_batch_size)\n",
    "    nb_moy_test_error += nb_test_errors\n",
    "    print('test error FirstConvNet {:0.2f}% {:d}/{:d}'.format((100 * nb_test_errors) / L[k][0].size(0),\n",
    "                                                nb_test_errors, L[k][0].size(0)))\n",
    "print('Average test error FirstConvNet {:0.2f}% {:0.1f}/{:d}'.format((100*nb_moy_test_error/10) / L[0][0].size(0),nb_moy_test_error/10, L[0][0].size(0) ))"
   ]
  },
  {
   "cell_type": "code",
   "execution_count": null,
   "metadata": {},
   "outputs": [],
   "source": []
  },
  {
   "cell_type": "code",
   "execution_count": null,
   "metadata": {},
   "outputs": [],
   "source": []
  }
 ],
 "metadata": {
  "kernelspec": {
   "display_name": "Python 3",
   "language": "python",
   "name": "python3"
  },
  "language_info": {
   "codemirror_mode": {
    "name": "ipython",
    "version": 3
   },
   "file_extension": ".py",
   "mimetype": "text/x-python",
   "name": "python",
   "nbconvert_exporter": "python",
   "pygments_lexer": "ipython3",
   "version": "3.8.3"
  }
 },
 "nbformat": 4,
 "nbformat_minor": 4
}
