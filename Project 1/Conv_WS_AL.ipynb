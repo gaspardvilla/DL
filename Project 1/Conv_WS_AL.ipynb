{
 "cells": [
  {
   "cell_type": "code",
   "execution_count": 1,
   "metadata": {},
   "outputs": [],
   "source": [
    "import torch\n",
    "import dlc_practical_prologue as prologue\n",
    "\n",
    "from torch import optim\n",
    "from torch.nn import functional as F\n",
    "from torch import nn"
   ]
  },
  {
   "cell_type": "code",
   "execution_count": null,
   "metadata": {},
   "outputs": [],
   "source": [
    "def compute_nb_errors(model, data_input, data_target, mini_batch_size):\n",
    "\n",
    "    nb_data_errors = 0\n",
    "\n",
    "    for b in range(0, data_input.size(0), mini_batch_size):\n",
    "        _, _, result = model(data_input.narrow(0, b, mini_batch_size))\n",
    "        _, predicted_classes = torch.max(result, 1)\n",
    "        for k in range(mini_batch_size):\n",
    "            if data_target[b + k] != predicted_classes[k]:\n",
    "                nb_data_errors = nb_data_errors + 1\n",
    "\n",
    "    return nb_data_errors"
   ]
  },
  {
   "cell_type": "code",
   "execution_count": 44,
   "metadata": {},
   "outputs": [],
   "source": [
    "def train_model(model, train_input, train_target, train_classes, nb_epochs, mini_batch_size):\n",
    "    criterion = nn.CrossEntropyLoss()\n",
    "    eta = 1e-2\n",
    "    optimizer = optim.SGD(model.parameters(), lr = eta)\n",
    "    \n",
    "    for e in range(nb_epochs):    \n",
    "        \n",
    "        for b in range(0, train_input.size(0), mini_batch_size):\n",
    "            digit1, digit2, result = model(train_input.narrow(0, b, mini_batch_size))\n",
    "            \n",
    "            loss_result = criterion(result, train_target.narrow(0, b, mini_batch_size))\n",
    "            loss_digit1 = criterion(digit1, train_classes[:,0].narrow(0, b, mini_batch_size))\n",
    "            loss_digit2 = criterion(digit2, train_classes[:,1].narrow(0, b, mini_batch_size))\n",
    "            loss = loss_result + 10*loss_digit1 + 10*loss_digit2\n",
    "            \n",
    "            model.zero_grad()\n",
    "            loss.backward()\n",
    "            optimizer.step()"
   ]
  },
  {
   "cell_type": "code",
   "execution_count": 48,
   "metadata": {},
   "outputs": [],
   "source": [
    "class ConvNoWS(nn.Module):\n",
    "    def __init__(self):\n",
    "        super(ConvNoWS, self).__init__()\n",
    "        \n",
    "        #Input channels = 1, output channels = 32\n",
    "        self.layer1 = nn.Sequential(\n",
    "            nn.Conv2d(1, 32, kernel_size=3, padding=1),\n",
    "            nn.ReLU(),\n",
    "            nn.BatchNorm2d(32),\n",
    "            nn.MaxPool2d(kernel_size=2))\n",
    "        \n",
    "        #Input channels = 32, output channels = 64\n",
    "        self.layer2 = nn.Sequential(\n",
    "            nn.Conv2d(32, 64, kernel_size=2, padding=1),\n",
    "            nn.ReLU(),\n",
    "            nn.BatchNorm2d(64),\n",
    "            nn.MaxPool2d(kernel_size=2))\n",
    "        \n",
    "        # Formula to get out_put size (in_size - kernel_size + 2*(padding)) / stride) + 1\n",
    "        # first layer (14 - 3 + 2*1) + 1 = 14/2 = 7\n",
    "        # second layer (7 - 2 + 2*1) + 1 = 8/2 = 4\n",
    "        # 4 * 4 * 64 input features, 1000 output features\n",
    "        self.fc = nn.Sequential(\n",
    "            nn.Linear(4 * 4 * 64, 1000),\n",
    "            nn.ReLU(),\n",
    "            nn.Linear(1000, 10))\n",
    "\n",
    "        #Comparison of the two digits\n",
    "        self.layer_comp = nn.Sequential(\n",
    "            nn.Linear(20, 200),\n",
    "            nn.ReLU(),\n",
    "            nn.Linear(200, 200),\n",
    "            nn.ReLU(),\n",
    "            nn.Linear(200, 2))\n",
    "        \n",
    "    def forward(self, x):\n",
    "        \n",
    "        first_digit = x[:,[0]]\n",
    "        second_digit = x[:,[1]]\n",
    "\n",
    "        first_digit = self.layer1(first_digit)\n",
    "        second_digit = self.layer1(second_digit)\n",
    "        \n",
    "        first_digit = self.layer2(first_digit)\n",
    "        second_digit = self.layer2(second_digit)\n",
    "    \n",
    "        first_digit = self.fc(first_digit.view(-1, 4 * 4 * 64))\n",
    "        second_digit = self.fc(second_digit.view(-1, 4 * 4 * 64))\n",
    "        \n",
    "        result = torch.cat((first_digit, second_digit), dim=1, out=None)\n",
    "        result = self.layer_comp(result)\n",
    "        \n",
    "        return first_digit, second_digit, result"
   ]
  },
  {
   "cell_type": "code",
   "execution_count": null,
   "metadata": {},
   "outputs": [],
   "source": [
    "def get_tests(n):\n",
    "    M = []\n",
    "    for k in range (0, n):\n",
    "        L = []\n",
    "        _, _, _, test_input, test_target, test_classes =  prologue.generate_pair_sets(1000)\n",
    "        L.append(test_input)\n",
    "        L.append(test_target)\n",
    "        L.append(test_classes)\n",
    "        M.append(L)\n",
    "    return M"
   ]
  },
  {
   "cell_type": "code",
   "execution_count": 54,
   "metadata": {},
   "outputs": [],
   "source": [
    "def main_Conv_WS_AL(nb_epochs):\n",
    "    \n",
    "    model = ConvNoWS()\n",
    "    mini_batch_size = 100\n",
    "    Train_error = []\n",
    "    Test_error = []\n",
    "    \n",
    "    train_input, train_target, train_classes,_, _, _ \\\n",
    "    = prologue.generate_pair_sets(1000)\n",
    "\n",
    "    for i in range(1, nb_epochs+1):\n",
    "    \n",
    "        train_model(model, train_input, train_target, train_classes, i, mini_batch_size)\n",
    "        L = get_tests(10)\n",
    "\n",
    "        nb_train_errors = compute_nb_errors(model, train_input, train_target, mini_batch_size)\n",
    "        Train_error.append(nb_train_errors/10)\n",
    "\n",
    "        nb_moy_test_error = 0\n",
    "\n",
    "        for k in range (0, len(L)):\n",
    "            nb_test_errors = compute_nb_errors(model, L[k][0], L[k][1], mini_batch_size)\n",
    "            nb_moy_test_error += nb_test_errors\n",
    "\n",
    "        nb_moy_test_error = nb_moy_test_error/len(L)\n",
    "        Test_error.append(nb_moy_test_error/10)\n",
    "        \n",
    "    return Train_error, Test_error"
   ]
  },
  {
   "cell_type": "code",
   "execution_count": 55,
   "metadata": {},
   "outputs": [
    {
     "name": "stdout",
     "output_type": "stream",
     "text": [
      "[42.7, 34.4, 20.9, 13.1, 7.9, 5.3, 2.9, 1.2, 0.2, 0.0]\n",
      "[40.510000000000005, 34.25, 23.97, 16.11, 12.129999999999999, 9.64, 9.7, 8.83, 8.309999999999999, 7.5]\n"
     ]
    }
   ],
   "source": [
    "Train_error, Test_error = main_Conv_WS_AL(10)\n",
    "print(Train_error)\n",
    "print(Test_error)"
   ]
  },
  {
   "cell_type": "code",
   "execution_count": null,
   "metadata": {},
   "outputs": [],
   "source": []
  }
 ],
 "metadata": {
  "kernelspec": {
   "display_name": "Python 3",
   "language": "python",
   "name": "python3"
  },
  "language_info": {
   "codemirror_mode": {
    "name": "ipython",
    "version": 3
   },
   "file_extension": ".py",
   "mimetype": "text/x-python",
   "name": "python",
   "nbconvert_exporter": "python",
   "pygments_lexer": "ipython3",
   "version": "3.7.9"
  }
 },
 "nbformat": 4,
 "nbformat_minor": 4
}
