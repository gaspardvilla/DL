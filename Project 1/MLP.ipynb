{
 "cells": [
  {
   "cell_type": "code",
   "execution_count": 19,
   "metadata": {},
   "outputs": [],
   "source": [
    "import torch\n",
    "from torch import optim\n",
    "from torch.nn import functional as F\n",
    "from torch import nn\n",
    "from torch.autograd import Variable\n",
    "\n",
    "import dlc_practical_prologue as prologue"
   ]
  },
  {
   "cell_type": "code",
   "execution_count": 98,
   "metadata": {},
   "outputs": [],
   "source": [
    "def compute_nb_errors(model, data_input, data_target, mini_batch_size):\n",
    "\n",
    "    nb_data_errors = 0\n",
    "\n",
    "    for b in range(0, data_input.size(0), mini_batch_size):\n",
    "        output = model(data_input.narrow(0, b, mini_batch_size))\n",
    "        _, predicted_classes = torch.max(output, 1)\n",
    "        for k in range(mini_batch_size):\n",
    "            if data_target[b + k] != predicted_classes[k]:\n",
    "                nb_data_errors = nb_data_errors + 1\n",
    "\n",
    "    return nb_data_errors"
   ]
  },
  {
   "cell_type": "code",
   "execution_count": 99,
   "metadata": {},
   "outputs": [],
   "source": [
    "def train_model(model, train_input, train_target, nb_epochs, mini_batch_size):\n",
    "    criterion = nn.CrossEntropyLoss()\n",
    "    eta = 1e-3\n",
    "    optimizer = optim.SGD(model.parameters(), lr = eta)\n",
    "\n",
    "    for e in range(nb_epochs):\n",
    "        acc_loss = 0\n",
    "        \n",
    "        for b in range(0, train_input.size(0), mini_batch_size):\n",
    "            output = model(train_input.narrow(0, b, mini_batch_size))\n",
    "            loss = criterion(output, train_target.narrow(0, b, mini_batch_size))\n",
    "            acc_loss = acc_loss + loss.item()\n",
    "            model.zero_grad()\n",
    "            loss.backward()\n",
    "            optimizer.step()\n",
    "    \n",
    "        #print(e, acc_loss)"
   ]
  },
  {
   "cell_type": "code",
   "execution_count": 127,
   "metadata": {},
   "outputs": [],
   "source": [
    "class MultilayerPerceptron(nn.Module):\n",
    "    def __init__(self):\n",
    "        super(MultilayerPerceptron, self).__init__()\n",
    "        \n",
    "        nb_hidden = 50\n",
    "        input_size = 2*14*14\n",
    "\n",
    "        self.layer1 = nn.Linear(input_size, nb_hidden)\n",
    "        self.relu = nn.ReLU()\n",
    "        self.layer2 = nn.Linear(nb_hidden, 2)\n",
    "        self.layer3 = nn.LogSoftmax(dim=1)\n",
    "        \n",
    "    def forward(self, x):\n",
    "        x = x.view(x.size(0),-1)\n",
    "        out = self.layer1(x)\n",
    "        out = self.relu(out)\n",
    "        out = self.layer2(out)\n",
    "        out = self.layer3(out)\n",
    "        out = out.reshape(out.size(0), -1)\n",
    "    \n",
    "        return out"
   ]
  },
  {
   "cell_type": "code",
   "execution_count": 128,
   "metadata": {},
   "outputs": [
    {
     "name": "stdout",
     "output_type": "stream",
     "text": [
      "0 73.48645889759064\n",
      "1 11.078763127326965\n",
      "2 6.412270665168762\n",
      "3 5.4333192110061646\n",
      "4 4.783904492855072\n",
      "5 4.322046369314194\n",
      "6 3.9917860329151154\n",
      "7 3.713072955608368\n",
      "8 3.477197825908661\n",
      "9 3.2897271811962128\n",
      "10 3.114551231265068\n",
      "11 2.96530582010746\n",
      "12 2.821431055665016\n",
      "13 2.6925964802503586\n",
      "14 2.5848399996757507\n",
      "15 2.4637518227100372\n",
      "16 2.3615109771490097\n",
      "17 2.2755756825208664\n",
      "18 2.1790389716625214\n",
      "19 2.097402885556221\n",
      "20 2.015765607357025\n",
      "21 1.9431884586811066\n",
      "22 1.8816437721252441\n",
      "23 1.8039746582508087\n",
      "24 1.7442994862794876\n",
      "test error MultilayerPerceptron 27.20% 272/1000\n",
      "test error MultilayerPerceptron 27.10% 271/1000\n",
      "test error MultilayerPerceptron 26.50% 265/1000\n",
      "test error MultilayerPerceptron 27.60% 276/1000\n",
      "test error MultilayerPerceptron 27.10% 271/1000\n",
      "test error MultilayerPerceptron 27.90% 279/1000\n",
      "test error MultilayerPerceptron 27.90% 279/1000\n",
      "test error MultilayerPerceptron 28.00% 280/1000\n",
      "test error MultilayerPerceptron 27.30% 273/1000\n",
      "test error MultilayerPerceptron 28.40% 284/1000\n",
      "Average test error MultilayerPerceptron 27.50% 275.0/1000\n"
     ]
    }
   ],
   "source": [
    "train_input, train_target, train_classes, test_input, test_target, test_classes = prologue.generate_pair_sets(1000)\n",
    "    \n",
    "# train_input, train_target, train_classes \\\n",
    "#     = Variable(train_input), Variable(train_target), Variable(train_classes)\n",
    "# test_input, test_target, test_classes \\\n",
    "#     = Variable(test_input), Variable(test_target), Variable(test_classes)\n",
    "\n",
    "def get_tests(n):\n",
    "    M = []\n",
    "    for k in range (0, n):\n",
    "        L = []\n",
    "        _, _, _, test_input, test_target, test_classes =  prologue.generate_pair_sets(1000)\n",
    "        L.append(test_input)\n",
    "        L.append(test_target)\n",
    "        L.append(test_classes)\n",
    "        M.append(L)\n",
    "    return M\n",
    "\n",
    "\n",
    "MLP = MultilayerPerceptron()\n",
    "nb_epochs = 25\n",
    "mini_batch_size = 100\n",
    "\n",
    "train_model(MLP, train_input, train_target, nb_epochs, mini_batch_size)\n",
    "L = get_tests(10)\n",
    "average_nb_test_error = 0\n",
    "for k in range (0, len(L)):\n",
    "    nb_test_errors = compute_nb_errors(MLP, L[k][0], L[k][1], mini_batch_size)\n",
    "    average_nb_test_error += nb_test_errors\n",
    "    print('test error MultilayerPerceptron {:0.2f}% {:d}/{:d}'.format((100 * nb_test_errors) / L[k][0].size(0),\n",
    "                                                nb_test_errors, L[k][0].size(0)))\n",
    "print('Average test error MultilayerPerceptron {:0.2f}% {:0.1f}/{:d}'.format((100*average_nb_test_error/10) / L[0][0].size(0),\n",
    "                                                                  average_nb_test_error/10, L[0][0].size(0) ))"
   ]
  },
  {
   "cell_type": "code",
   "execution_count": null,
   "metadata": {},
   "outputs": [],
   "source": []
  }
 ],
 "metadata": {
  "kernelspec": {
   "display_name": "Python 3",
   "language": "python",
   "name": "python3"
  },
  "language_info": {
   "codemirror_mode": {
    "name": "ipython",
    "version": 3
   },
   "file_extension": ".py",
   "mimetype": "text/x-python",
   "name": "python",
   "nbconvert_exporter": "python",
   "pygments_lexer": "ipython3",
   "version": "3.6.9"
  }
 },
 "nbformat": 4,
 "nbformat_minor": 4
}
