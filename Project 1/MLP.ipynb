{
 "cells": [
  {
   "cell_type": "code",
   "execution_count": 19,
   "metadata": {},
   "outputs": [],
   "source": [
    "import torch\n",
    "from torch import optim\n",
    "from torch.nn import functional as F\n",
    "from torch import nn\n",
    "\n",
    "import dlc_practical_prologue as prologue"
   ]
  },
  {
   "cell_type": "code",
   "execution_count": 20,
   "metadata": {},
   "outputs": [],
   "source": [
    "def compute_nb_errors(model, data_input, data_target, mini_batch_size):\n",
    "\n",
    "    nb_data_errors = 0\n",
    "\n",
    "    for b in range(0, data_input.size(0), mini_batch_size):\n",
    "        output = model(data_input.narrow(0, b, mini_batch_size))\n",
    "        _, predicted_classes = torch.max(output, 1)\n",
    "        for k in range(mini_batch_size):\n",
    "            if data_target[b + k] != predicted_classes[k]:\n",
    "                nb_data_errors = nb_data_errors + 1\n",
    "\n",
    "    return nb_data_errors"
   ]
  },
  {
   "cell_type": "code",
   "execution_count": 21,
   "metadata": {},
   "outputs": [],
   "source": [
    "def train_model(model, train_input, train_target, nb_epochs, mini_batch_size):\n",
    "    criterion = nn.CrossEntropyLoss()\n",
    "    eta = 1e-3\n",
    "    optimizer = optim.Adam(model.parameters(), lr = eta)\n",
    "\n",
    "    for e in range(nb_epochs):\n",
    "        acc_loss = 0\n",
    "        \n",
    "        for b in range(0, train_input.size(0), mini_batch_size):\n",
    "            output = model(train_input.narrow(0, b, mini_batch_size))\n",
    "            loss = criterion(output, train_target.narrow(0, b, mini_batch_size))\n",
    "            acc_loss = acc_loss + loss.item()\n",
    "            model.zero_grad()\n",
    "            loss.backward()\n",
    "            optimizer.step()\n",
    "    \n",
    "        #print(e, acc_loss)"
   ]
  },
  {
   "cell_type": "code",
   "execution_count": 22,
   "metadata": {},
   "outputs": [],
   "source": [
    "class MultilayerPerceptron(nn.Module):\n",
    "    def __init__(self):\n",
    "        super(MultilayerPerceptron, self).__init__()\n",
    "        \n",
    "        nb_hidden = 100\n",
    "        input_size = 2*14*14\n",
    "        \n",
    "        self.layers = nn.Sequential(\n",
    "            nn.Linear(input_size, nb_hidden),\n",
    "            nn.ReLU(),\n",
    "            nn.Linear(nb_hidden, nb_hidden),\n",
    "            nn.Linear(nb_hidden, nb_hidden),\n",
    "            nn.Linear(nb_hidden, 2),\n",
    "            nn.LogSoftmax(dim=1)\n",
    "        )\n",
    "        \n",
    "    def forward(self, x):\n",
    "        x = x.view(x.size(0),-1)\n",
    "        out = self.layers(x)\n",
    "    \n",
    "        return out"
   ]
  },
  {
   "cell_type": "code",
   "execution_count": 23,
   "metadata": {},
   "outputs": [
    {
     "name": "stdout",
     "output_type": "stream",
     "text": [
      "train error MLP with weight sharing and with auxiliary loss 0.00% 0.000000/1000.000000\n",
      "test error MultilayerPerceptron 22.40% 224/1000\n",
      "test error MultilayerPerceptron 24.10% 241/1000\n",
      "test error MultilayerPerceptron 22.40% 224/1000\n",
      "test error MultilayerPerceptron 21.60% 216/1000\n",
      "test error MultilayerPerceptron 23.60% 236/1000\n",
      "test error MultilayerPerceptron 22.20% 222/1000\n",
      "test error MultilayerPerceptron 22.30% 223/1000\n",
      "test error MultilayerPerceptron 24.50% 245/1000\n",
      "test error MultilayerPerceptron 23.50% 235/1000\n",
      "test error MultilayerPerceptron 21.20% 212/1000\n",
      "Average test error MultilayerPerceptron 22.78% 227.8/1000\n"
     ]
    }
   ],
   "source": [
    "train_input, train_target, train_classes, test_input, test_target, test_classes = prologue.generate_pair_sets(1000)\n",
    "    \n",
    "# train_input, train_target, train_classes \\\n",
    "#     = Variable(train_input), Variable(train_target), Variable(train_classes)\n",
    "# test_input, test_target, test_classes \\\n",
    "#     = Variable(test_input), Variable(test_target), Variable(test_classes)\n",
    "\n",
    "def get_tests(n):\n",
    "    M = []\n",
    "    for k in range (0, n):\n",
    "        L = []\n",
    "        _, _, _, test_input, test_target, test_classes =  prologue.generate_pair_sets(1000)\n",
    "        L.append(test_input)\n",
    "        L.append(test_target)\n",
    "        L.append(test_classes)\n",
    "        M.append(L)\n",
    "    return M\n",
    "\n",
    "MLP = MultilayerPerceptron()\n",
    "nb_epochs = 100\n",
    "mini_batch_size = 100\n",
    "\n",
    "train_model(MLP, train_input, train_target, nb_epochs, mini_batch_size)\n",
    "\n",
    "nb_train_errors = compute_nb_errors(MLP, train_input, train_target, mini_batch_size)\n",
    "print('train error MLP with weight sharing and with auxiliary loss {:0.2f}% {:f}/{:f}'.format((100 * nb_train_errors) / train_input.size(0), nb_train_errors, train_target.size(0)))\n",
    "\n",
    "L = get_tests(10)\n",
    "average_nb_test_error = 0\n",
    "for k in range (0, len(L)):\n",
    "    nb_test_errors = compute_nb_errors(MLP, L[k][0], L[k][1], mini_batch_size)\n",
    "    average_nb_test_error += nb_test_errors\n",
    "    print('test error MultilayerPerceptron {:0.2f}% {:d}/{:d}'.format((100 * nb_test_errors) / L[k][0].size(0),\n",
    "                                                nb_test_errors, L[k][0].size(0)))\n",
    "print('Average test error MultilayerPerceptron {:0.2f}% {:0.1f}/{:d}'.format((100*average_nb_test_error/10) / L[0][0].size(0),\n",
    "                                                                  average_nb_test_error/len(L), L[0][0].size(0) ))"
   ]
  }
 ],
 "metadata": {
  "kernelspec": {
   "display_name": "Python 3",
   "language": "python",
   "name": "python3"
  },
  "language_info": {
   "codemirror_mode": {
    "name": "ipython",
    "version": 3
   },
   "file_extension": ".py",
   "mimetype": "text/x-python",
   "name": "python",
   "nbconvert_exporter": "python",
   "pygments_lexer": "ipython3",
   "version": "3.8.5"
  }
 },
 "nbformat": 4,
 "nbformat_minor": 4
}
