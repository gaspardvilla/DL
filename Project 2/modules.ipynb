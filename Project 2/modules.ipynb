{
 "cells": [
  {
   "cell_type": "code",
   "execution_count": 19,
   "id": "patent-acting",
   "metadata": {},
   "outputs": [
    {
     "data": {
      "text/plain": [
       "<torch.autograd.grad_mode.set_grad_enabled at 0x21735174548>"
      ]
     },
     "execution_count": 19,
     "metadata": {},
     "output_type": "execute_result"
    }
   ],
   "source": [
    "import torch\n",
    "import math\n",
    "\n",
    "torch.set_grad_enabled(False)"
   ]
  },
  {
   "cell_type": "code",
   "execution_count": 20,
   "id": "headed-engagement",
   "metadata": {},
   "outputs": [],
   "source": [
    "class Module(object) :\n",
    "    \n",
    "    def  forward(self , *input):\n",
    "        raise  NotImplementedError\n",
    "        \n",
    "    def  backward(self , *gradwrtoutput):\n",
    "        raise  NotImplementedError\n",
    "        \n",
    "    def  param(self):\n",
    "        return  []\n",
    "\n",
    "    "
   ]
  },
  {
   "cell_type": "code",
   "execution_count": 21,
   "id": "legendary-interface",
   "metadata": {},
   "outputs": [],
   "source": [
    "def tanh(x):\n",
    "    return math.tanh(x)"
   ]
  },
  {
   "cell_type": "code",
   "execution_count": 22,
   "id": "banned-drain",
   "metadata": {},
   "outputs": [],
   "source": [
    "def dtanh(x):\n",
    "    return 1 + tanh(x)**2"
   ]
  },
  {
   "cell_type": "code",
   "execution_count": 23,
   "id": "commercial-reading",
   "metadata": {},
   "outputs": [],
   "source": [
    "def MSEloss(data_input, data_target):\n",
    "    x = torch.pow(data_input - data_target, 2)\n",
    "    x = x.sum()\n",
    "    return x / data_input.size(0)"
   ]
  }
 ],
 "metadata": {
  "kernelspec": {
   "display_name": "Python 3",
   "language": "python",
   "name": "python3"
  },
  "language_info": {
   "codemirror_mode": {
    "name": "ipython",
    "version": 3
   },
   "file_extension": ".py",
   "mimetype": "text/x-python",
   "name": "python",
   "nbconvert_exporter": "python",
   "pygments_lexer": "ipython3",
   "version": "3.7.9"
  }
 },
 "nbformat": 4,
 "nbformat_minor": 5
}
