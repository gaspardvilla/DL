{
 "cells": [
  {
   "cell_type": "code",
   "execution_count": 56,
   "metadata": {},
   "outputs": [
    {
     "data": {
      "text/plain": [
       "<torch.autograd.grad_mode.set_grad_enabled at 0x7ffa9a609700>"
      ]
     },
     "execution_count": 56,
     "metadata": {},
     "output_type": "execute_result"
    }
   ],
   "source": [
    "import torch\n",
    "import math\n",
    "import matplotlib.pyplot as plt\n",
    "\n",
    "torch.set_grad_enabled(False)"
   ]
  },
  {
   "cell_type": "code",
   "execution_count": 57,
   "metadata": {},
   "outputs": [],
   "source": [
    "class Module(object) :\n",
    "    def __init__(self):\n",
    "        super().__init__()\n",
    "    \n",
    "    def forward(self , *input):\n",
    "        raise  NotImplementedError\n",
    "        \n",
    "    def backward(self , *gradwrtoutput):\n",
    "        raise  NotImplementedError\n",
    "        \n",
    "    def param(self): # These are the layers of the network\n",
    "        return  []"
   ]
  },
  {
   "cell_type": "code",
   "execution_count": 58,
   "metadata": {},
   "outputs": [],
   "source": [
    "class Sequential(Module):\n",
    "    def __init__(self, param):\n",
    "        super().__init__()\n",
    "        self.model = (param)\n",
    "        self.loss = LossMSE()\n",
    "    \n",
    "    def forward(self, x):\n",
    "        for layer in self.model:\n",
    "            x = layer.forward(x)\n",
    "        return x\n",
    "    \n",
    "    def backward(self, output, target):\n",
    "        grad = self.loss.backward(target, output)\n",
    "        for layer in reversed(self.model):\n",
    "            grad = layer.backward(grad)\n",
    "        \n",
    "        Loss = self.loss.forward(target, output)\n",
    "        return Loss"
   ]
  },
  {
   "cell_type": "code",
   "execution_count": 117,
   "metadata": {},
   "outputs": [],
   "source": [
    "class Linear(Module):\n",
    "    def __init__(self, in_, out_):\n",
    "        super().__init__()\n",
    "        self.in_ = in_\n",
    "        self.out_ = out_\n",
    "        \n",
    "        # Capture the term at each layer before the passage in the layer\n",
    "        # and the activation function.\n",
    "        self.x = torch.zeros(out_)\n",
    "        \n",
    "        # Initialization of the weights and the bias\n",
    "        param = 1. / math.sqrt(in_)\n",
    "        self.weight = torch.empty(self.in_, self.out_).uniform_(-param, param)\n",
    "        self.bias = torch.empty(self.out_).uniform_(-param, param)\n",
    "        \n",
    "    def forward(self, x):\n",
    "        self.x = x\n",
    "        #print('w = ', self.weight.size())\n",
    "        #print('b = ', self.bias.size())\n",
    "        #print('res =',(x.mm(self.weight) + self.bias).size())\n",
    "        return x.mm(self.weight) + self.bias\n",
    "    \n",
    "    def set_Lr(self, lr):\n",
    "        self.lr = lr\n",
    "        return\n",
    "        \n",
    "    def backward(self, grad):\n",
    "        lr = 0.005\n",
    "        self.weight = self.weight - lr * self.x.t().mm(grad)\n",
    "        self.bias = self.bias - lr * grad * 1\n",
    "        grad = grad.mm(self.weight.t())\n",
    "        return grad\n",
    "    \n",
    "    def weight(self):\n",
    "        return self.weight\n",
    "    \n",
    "    def bias(self):\n",
    "        return self.bias"
   ]
  },
  {
   "cell_type": "code",
   "execution_count": 118,
   "metadata": {},
   "outputs": [],
   "source": [
    "class LossMSE(object):\n",
    "    def __init__(self):\n",
    "        super().__init__() \n",
    "    \n",
    "    def forward(self, data_target, data_output):\n",
    "        loss = (data_output - data_target).pow(2).sum()\n",
    "        return loss\n",
    "    \n",
    "    def backward(self, data_target, data_output):\n",
    "        dloss = 2 * (data_output - data_target)\n",
    "        return dloss"
   ]
  },
  {
   "cell_type": "code",
   "execution_count": 119,
   "metadata": {},
   "outputs": [],
   "source": [
    "class ReLU(Module):\n",
    "    \n",
    "    def __init__(self ):\n",
    "        super().__init__()\n",
    "        self.save = 0\n",
    "        \n",
    "    def forward(self, x):\n",
    "        y = x.clamp(min = 0)\n",
    "        self.save = x\n",
    "        return y\n",
    "    \n",
    "    def backward(self, x):\n",
    "        y = self.save > 0\n",
    "        return y.float() * x\n",
    "         \n",
    "    def print(self):\n",
    "        return"
   ]
  },
  {
   "cell_type": "code",
   "execution_count": 120,
   "metadata": {},
   "outputs": [],
   "source": [
    "class Tanh(Module) :\n",
    "    def __init__(self, ):\n",
    "        super().__init__()\n",
    "        self.save = 0\n",
    "    \n",
    "    def  forward(self, x):\n",
    "        self.save = x\n",
    "        return torch.div(x.exp() - (-x).exp(), x.exp() + (-x).exp())\n",
    "        \n",
    "    def  backward(self, x):\n",
    "        return (1 - torch.div(self.save.exp() - \n",
    "                    (-self.save).exp(), self.save.exp() + (-self.save).exp())**2) * x\n",
    "        \n",
    "    def print(self):\n",
    "        return"
   ]
  },
  {
   "cell_type": "code",
   "execution_count": 121,
   "metadata": {},
   "outputs": [],
   "source": [
    "def create_random_batch(input_size, mini_batch_size):\n",
    "    \n",
    "    # This function return a 2D tensor that is the rando selection of inputs for our\n",
    "    # stochastic gradient method, taking in count the number of mini_batches.\n",
    "    \n",
    "    # We suppose here that our mini_batch_size is well chosen taking in count the fact\n",
    "    # that it divides input_size.\n",
    "    \n",
    "    # Initialization\n",
    "    L = int(input_size / mini_batch_size)\n",
    "    new_batch = torch.ones(L, mini_batch_size)\n",
    "    \n",
    "    indices = torch.randperm(input_size)\n",
    "    for k in range(L):\n",
    "        new_batch[k] = indices[k * mini_batch_size : (k+1) * mini_batch_size]\n",
    "    \n",
    "    return new_batch"
   ]
  },
  {
   "cell_type": "code",
   "execution_count": 122,
   "metadata": {},
   "outputs": [],
   "source": [
    "def train_model(model, train_input, train_classes, nb_epochs, mini_batch_size):\n",
    "    \n",
    "    h_step = 1e-3\n",
    "    \n",
    "    for epoch in range(nb_epochs):\n",
    "        random_batches = create_random_batch(train_input.size(0), mini_batch_size).tolist()\n",
    "        for batch in range(0, train_input.size(0), mini_batch_size):\n",
    "            output = model.forward(train_input.narrow(0, batch, mini_batch_size))\n",
    "            loss = model.backward(output, train_classes.narrow(0, batch, mini_batch_size))"
   ]
  },
  {
   "cell_type": "code",
   "execution_count": 123,
   "metadata": {},
   "outputs": [],
   "source": [
    "def compute_nb_errors(model, data_input, data_target, mini_batch_size):\n",
    "    \n",
    "    nb_data_errors = 0\n",
    "\n",
    "    for b in range(0, data_input.size(0), mini_batch_size):\n",
    "        result = model.forward(data_input.narrow(0, b, mini_batch_size))\n",
    "        \n",
    "        # Faster\n",
    "        predicted_classes = result >= (0.5 * torch.ones(result.size(0),1))\n",
    "        predicted_classes = predicted_classes.int()\n",
    "        \n",
    "        for k in range(mini_batch_size):\n",
    "            if data_target[b + k] != predicted_classes[k]:\n",
    "                nb_data_errors = nb_data_errors + 1\n",
    "                \n",
    "    return nb_data_errors"
   ]
  },
  {
   "cell_type": "code",
   "execution_count": 124,
   "metadata": {},
   "outputs": [],
   "source": [
    "def create_problem(nb_samples):\n",
    "    \n",
    "    # Remark: the function .uniform return a uniform distribution on [0,1) instead of [0,1],\n",
    "    # but in our case it's not a problem since it is only a train and a test set on a circle\n",
    "    # that do not touch the border of the set [0,1]^2.\n",
    "    train_input = torch.empty(nb_samples, 2).uniform_(0, 1)\n",
    "    test_input = torch.empty(nb_samples, 2).uniform_(0, 1)\n",
    "    \n",
    "    # Radius of our circle\n",
    "    R = 1 / math.sqrt(2 * math.pi)\n",
    "    \n",
    "    train_classes = train_input.sub(0.5).pow(2).sum(1).sub(R**2).sign().sub(1).div(-2).long().resize_((nb_samples,1))\n",
    "    test_classes = test_input.sub(0.5).pow(2).sum(1).sub(R**2).sign().sub(1).div(-2).long().resize_((nb_samples,1))\n",
    "    \n",
    "    return train_input, train_classes, test_input, test_classes"
   ]
  },
  {
   "cell_type": "code",
   "execution_count": 125,
   "metadata": {},
   "outputs": [],
   "source": [
    "def get_tests(n):\n",
    "    M = []\n",
    "    for k in range (n):\n",
    "        L = []\n",
    "        _, _, test_input, test_classes =  create_problem(1000)\n",
    "        L.append(test_input)\n",
    "        L.append(test_classes)\n",
    "        M.append(L)\n",
    "    return M"
   ]
  },
  {
   "cell_type": "code",
   "execution_count": 126,
   "metadata": {
    "scrolled": true
   },
   "outputs": [],
   "source": [
    "train_input, train_classes, _, _ = create_problem(1000)\n",
    "#print(train_input.size())\n",
    "#print(train_input.narrow(0, b, mini_batch_size).size())\n",
    "nb_epochs = 50\n",
    "mini_batch_size = 10\n",
    "\n",
    "model = Sequential([Linear(2,25), Tanh(), Linear(25,25), Tanh(), Linear(25,1), Tanh()])\n",
    "train_model(model, train_input, train_classes, nb_epochs, mini_batch_size)"
   ]
  },
  {
   "cell_type": "code",
   "execution_count": 127,
   "metadata": {},
   "outputs": [
    {
     "name": "stdout",
     "output_type": "stream",
     "text": [
      "train error 16.80% 168.000000/1000.000000\n",
      "test error 24.40% 244.000000/1000.000000\n",
      "test error 26.70% 267.000000/1000.000000\n",
      "test error 23.70% 237.000000/1000.000000\n",
      "test error 27.10% 271.000000/1000.000000\n",
      "test error 24.30% 243.000000/1000.000000\n",
      "test error 27.60% 276.000000/1000.000000\n",
      "test error 25.20% 252.000000/1000.000000\n",
      "test error 25.80% 258.000000/1000.000000\n",
      "test error 25.40% 254.000000/1000.000000\n",
      "test error 24.40% 244.000000/1000.000000\n",
      "Average test error 25.46% 254.6/1000\n"
     ]
    }
   ],
   "source": [
    "nb_train_errors = compute_nb_errors(model, train_input, train_classes, mini_batch_size)\n",
    "print('train error {:0.2f}% {:f}/{:f}'.format((100 * nb_train_errors) / train_input.size(0), nb_train_errors, train_classes.size(0)))\n",
    "\n",
    "L = get_tests(10)\n",
    "average_nb_test_error = 0\n",
    "for k in range (0, len(L)):\n",
    "    nb_test_errors = compute_nb_errors(model, L[k][0], L[k][1], mini_batch_size)\n",
    "    average_nb_test_error += nb_test_errors\n",
    "    print('test error {:0.2f}% {:f}/{:f}'.format((100 * nb_test_errors) / L[k][0].size(0), nb_test_errors, L[k][0].size(0)))\n",
    "print('Average test error {:0.2f}% {:0.1f}/{:d}'.format((100*average_nb_test_error/len(L)) / L[0][0].size(0), average_nb_test_error/len(L), L[0][0].size(0)))"
   ]
  },
  {
   "cell_type": "code",
   "execution_count": 105,
   "metadata": {},
   "outputs": [
    {
     "ename": "RuntimeError",
     "evalue": "mat1 and mat2 shapes cannot be multiplied (2x1 and 100x25)",
     "output_type": "error",
     "traceback": [
      "\u001b[0;31m---------------------------------------------------------------------------\u001b[0m",
      "\u001b[0;31mRuntimeError\u001b[0m                              Traceback (most recent call last)",
      "\u001b[0;32m<ipython-input-105-8bf3e068fd7c>\u001b[0m in \u001b[0;36m<module>\u001b[0;34m\u001b[0m\n\u001b[1;32m      5\u001b[0m     \u001b[0;32mfor\u001b[0m \u001b[0mb\u001b[0m \u001b[0;32min\u001b[0m \u001b[0mrange\u001b[0m\u001b[0;34m(\u001b[0m\u001b[0;36m0\u001b[0m\u001b[0;34m,\u001b[0m \u001b[0mtrain_input\u001b[0m\u001b[0;34m.\u001b[0m\u001b[0msize\u001b[0m\u001b[0;34m(\u001b[0m\u001b[0;36m0\u001b[0m\u001b[0;34m)\u001b[0m\u001b[0;34m,\u001b[0m \u001b[0;36m1\u001b[0m\u001b[0;34m)\u001b[0m\u001b[0;34m:\u001b[0m\u001b[0;34m\u001b[0m\u001b[0;34m\u001b[0m\u001b[0m\n\u001b[1;32m      6\u001b[0m         \u001b[0moutput\u001b[0m \u001b[0;34m=\u001b[0m \u001b[0mmodel\u001b[0m\u001b[0;34m.\u001b[0m\u001b[0mforward\u001b[0m\u001b[0;34m(\u001b[0m\u001b[0mtrain_input\u001b[0m\u001b[0;34m.\u001b[0m\u001b[0mnarrow\u001b[0m\u001b[0;34m(\u001b[0m\u001b[0;36m0\u001b[0m\u001b[0;34m,\u001b[0m \u001b[0mb\u001b[0m\u001b[0;34m,\u001b[0m \u001b[0;36m1\u001b[0m\u001b[0;34m)\u001b[0m\u001b[0;34m)\u001b[0m\u001b[0;34m\u001b[0m\u001b[0;34m\u001b[0m\u001b[0m\n\u001b[0;32m----> 7\u001b[0;31m         \u001b[0mLoss\u001b[0m \u001b[0;34m=\u001b[0m \u001b[0mmodel\u001b[0m\u001b[0;34m.\u001b[0m\u001b[0mbackward\u001b[0m\u001b[0;34m(\u001b[0m\u001b[0mtrain_classes\u001b[0m\u001b[0;34m.\u001b[0m\u001b[0mnarrow\u001b[0m\u001b[0;34m(\u001b[0m\u001b[0;36m0\u001b[0m\u001b[0;34m,\u001b[0m \u001b[0mb\u001b[0m\u001b[0;34m,\u001b[0m \u001b[0;36m1\u001b[0m\u001b[0;34m)\u001b[0m\u001b[0;34m,\u001b[0m\u001b[0moutput\u001b[0m\u001b[0;34m)\u001b[0m\u001b[0;34m\u001b[0m\u001b[0;34m\u001b[0m\u001b[0m\n\u001b[0m\u001b[1;32m      8\u001b[0m         \u001b[0mSum_Loss\u001b[0m \u001b[0;34m=\u001b[0m \u001b[0mSum_Loss\u001b[0m \u001b[0;34m+\u001b[0m \u001b[0mLoss\u001b[0m\u001b[0;34m.\u001b[0m\u001b[0mitem\u001b[0m\u001b[0;34m(\u001b[0m\u001b[0;34m)\u001b[0m\u001b[0;34m\u001b[0m\u001b[0;34m\u001b[0m\u001b[0m\n\u001b[1;32m      9\u001b[0m     \u001b[0mHistory_Loss\u001b[0m\u001b[0;34m.\u001b[0m\u001b[0mappend\u001b[0m\u001b[0;34m(\u001b[0m\u001b[0mSum_Loss\u001b[0m\u001b[0;34m)\u001b[0m\u001b[0;34m\u001b[0m\u001b[0;34m\u001b[0m\u001b[0m\n",
      "\u001b[0;32m<ipython-input-58-f1a0abaad080>\u001b[0m in \u001b[0;36mbackward\u001b[0;34m(self, output, target)\u001b[0m\n\u001b[1;32m     13\u001b[0m         \u001b[0mgrad\u001b[0m \u001b[0;34m=\u001b[0m \u001b[0mself\u001b[0m\u001b[0;34m.\u001b[0m\u001b[0mloss\u001b[0m\u001b[0;34m.\u001b[0m\u001b[0mbackward\u001b[0m\u001b[0;34m(\u001b[0m\u001b[0mtarget\u001b[0m\u001b[0;34m,\u001b[0m \u001b[0moutput\u001b[0m\u001b[0;34m)\u001b[0m\u001b[0;34m\u001b[0m\u001b[0;34m\u001b[0m\u001b[0m\n\u001b[1;32m     14\u001b[0m         \u001b[0;32mfor\u001b[0m \u001b[0mlayer\u001b[0m \u001b[0;32min\u001b[0m \u001b[0mreversed\u001b[0m\u001b[0;34m(\u001b[0m\u001b[0mself\u001b[0m\u001b[0;34m.\u001b[0m\u001b[0mmodel\u001b[0m\u001b[0;34m)\u001b[0m\u001b[0;34m:\u001b[0m\u001b[0;34m\u001b[0m\u001b[0;34m\u001b[0m\u001b[0m\n\u001b[0;32m---> 15\u001b[0;31m             \u001b[0mgrad\u001b[0m \u001b[0;34m=\u001b[0m \u001b[0mlayer\u001b[0m\u001b[0;34m.\u001b[0m\u001b[0mbackward\u001b[0m\u001b[0;34m(\u001b[0m\u001b[0mgrad\u001b[0m\u001b[0;34m)\u001b[0m\u001b[0;34m\u001b[0m\u001b[0;34m\u001b[0m\u001b[0m\n\u001b[0m\u001b[1;32m     16\u001b[0m \u001b[0;34m\u001b[0m\u001b[0m\n\u001b[1;32m     17\u001b[0m         \u001b[0mLoss\u001b[0m \u001b[0;34m=\u001b[0m \u001b[0mself\u001b[0m\u001b[0;34m.\u001b[0m\u001b[0mloss\u001b[0m\u001b[0;34m.\u001b[0m\u001b[0mforward\u001b[0m\u001b[0;34m(\u001b[0m\u001b[0mtarget\u001b[0m\u001b[0;34m,\u001b[0m \u001b[0moutput\u001b[0m\u001b[0;34m)\u001b[0m\u001b[0;34m\u001b[0m\u001b[0;34m\u001b[0m\u001b[0m\n",
      "\u001b[0;32m<ipython-input-94-a2655492fe27>\u001b[0m in \u001b[0;36mbackward\u001b[0;34m(self, grad)\u001b[0m\n\u001b[1;32m     27\u001b[0m     \u001b[0;32mdef\u001b[0m \u001b[0mbackward\u001b[0m\u001b[0;34m(\u001b[0m\u001b[0mself\u001b[0m\u001b[0;34m,\u001b[0m \u001b[0mgrad\u001b[0m\u001b[0;34m)\u001b[0m\u001b[0;34m:\u001b[0m\u001b[0;34m\u001b[0m\u001b[0;34m\u001b[0m\u001b[0m\n\u001b[1;32m     28\u001b[0m         \u001b[0mlr\u001b[0m \u001b[0;34m=\u001b[0m \u001b[0;36m0.05\u001b[0m\u001b[0;34m\u001b[0m\u001b[0;34m\u001b[0m\u001b[0m\n\u001b[0;32m---> 29\u001b[0;31m         \u001b[0mself\u001b[0m\u001b[0;34m.\u001b[0m\u001b[0mweight\u001b[0m \u001b[0;34m=\u001b[0m \u001b[0mself\u001b[0m\u001b[0;34m.\u001b[0m\u001b[0mweight\u001b[0m \u001b[0;34m-\u001b[0m \u001b[0mlr\u001b[0m \u001b[0;34m*\u001b[0m \u001b[0mself\u001b[0m\u001b[0;34m.\u001b[0m\u001b[0mx\u001b[0m\u001b[0;34m.\u001b[0m\u001b[0mt\u001b[0m\u001b[0;34m(\u001b[0m\u001b[0;34m)\u001b[0m\u001b[0;34m.\u001b[0m\u001b[0mmm\u001b[0m\u001b[0;34m(\u001b[0m\u001b[0mgrad\u001b[0m\u001b[0;34m)\u001b[0m\u001b[0;34m\u001b[0m\u001b[0;34m\u001b[0m\u001b[0m\n\u001b[0m\u001b[1;32m     30\u001b[0m         \u001b[0mself\u001b[0m\u001b[0;34m.\u001b[0m\u001b[0mbias\u001b[0m \u001b[0;34m=\u001b[0m \u001b[0mself\u001b[0m\u001b[0;34m.\u001b[0m\u001b[0mbias\u001b[0m \u001b[0;34m-\u001b[0m \u001b[0mlr\u001b[0m \u001b[0;34m*\u001b[0m \u001b[0mgrad\u001b[0m \u001b[0;34m*\u001b[0m \u001b[0;36m1\u001b[0m\u001b[0;34m\u001b[0m\u001b[0;34m\u001b[0m\u001b[0m\n\u001b[1;32m     31\u001b[0m         \u001b[0mgrad\u001b[0m \u001b[0;34m=\u001b[0m \u001b[0mgrad\u001b[0m\u001b[0;34m.\u001b[0m\u001b[0mmm\u001b[0m\u001b[0;34m(\u001b[0m\u001b[0mself\u001b[0m\u001b[0;34m.\u001b[0m\u001b[0mweight\u001b[0m\u001b[0;34m.\u001b[0m\u001b[0mt\u001b[0m\u001b[0;34m(\u001b[0m\u001b[0;34m)\u001b[0m\u001b[0;34m)\u001b[0m\u001b[0;34m\u001b[0m\u001b[0;34m\u001b[0m\u001b[0m\n",
      "\u001b[0;31mRuntimeError\u001b[0m: mat1 and mat2 shapes cannot be multiplied (2x1 and 100x25)"
     ]
    }
   ],
   "source": [
    "History_Loss = []\n",
    "_, _, test_input, test_classes =  create_problem(1000)\n",
    "for epochs in range(0, nb_epochs):\n",
    "    Sum_Loss = 0\n",
    "    for b in range(0, train_input.size(0), 1):\n",
    "        output = model.forward(train_input.narrow(0, b, 1))\n",
    "        Loss = model.backward(train_classes.narrow(0, b, 1),output)\n",
    "        Sum_Loss = Sum_Loss + Loss.item()\n",
    "    History_Loss.append(Sum_Loss)  \n",
    "    print(\"Epoch: {}, Train Error: {:.4f}%, Test Error: {:.4f}%, Loss  {:.4f}\".format(epochs+1,compute_nb_errors(model,train_input, train_classes,1)/train_input.size(0)*100,compute_nb_errors(model,test_input, test_classes,1)/test_input.size(0)*100,Sum_Loss))"
   ]
  },
  {
   "cell_type": "code",
   "execution_count": null,
   "metadata": {},
   "outputs": [],
   "source": [
    "x = torch.ones(3,1)\n",
    "y = torch.zeros(3).resize_(x.size())\n",
    "print(x-y)"
   ]
  },
  {
   "cell_type": "code",
   "execution_count": null,
   "metadata": {},
   "outputs": [],
   "source": []
  }
 ],
 "metadata": {
  "kernelspec": {
   "display_name": "Python 3",
   "language": "python",
   "name": "python3"
  },
  "language_info": {
   "codemirror_mode": {
    "name": "ipython",
    "version": 3
   },
   "file_extension": ".py",
   "mimetype": "text/x-python",
   "name": "python",
   "nbconvert_exporter": "python",
   "pygments_lexer": "ipython3",
   "version": "3.8.3"
  }
 },
 "nbformat": 4,
 "nbformat_minor": 5
}
