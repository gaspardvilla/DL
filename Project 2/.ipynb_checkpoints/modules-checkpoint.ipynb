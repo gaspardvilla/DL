{
 "cells": [
  {
   "cell_type": "code",
   "execution_count": 18,
   "metadata": {},
   "outputs": [
    {
     "data": {
      "text/plain": [
       "<torch.autograd.grad_mode.set_grad_enabled at 0x7ffc4287fc70>"
      ]
     },
     "execution_count": 18,
     "metadata": {},
     "output_type": "execute_result"
    }
   ],
   "source": [
    "import torch\n",
    "import math\n",
    "import matplotlib.pyplot as plt\n",
    "\n",
    "torch.set_grad_enabled(False)"
   ]
  },
  {
   "cell_type": "code",
   "execution_count": 36,
   "metadata": {},
   "outputs": [],
   "source": [
    "class Tanh(object) :\n",
    "    def __init__(self, ):\n",
    "        super().__init__() \n",
    "    \n",
    "    def  forward(self, x):\n",
    "        return torch.div(x.exp() - (-x).exp(), x.exp() + (-x).exp())\n",
    "        \n",
    "    def  backward(self, *gradwrtoutput):\n",
    "        return 1 - torch.div(x.exp() - (-x).exp(), x.exp() + (-x).exp())**2\n",
    "        \n",
    "    def  param(self):\n",
    "        return"
   ]
  },
  {
   "cell_type": "code",
   "execution_count": null,
   "metadata": {},
   "outputs": [],
   "source": [
    "def train_model(model, train_input, train_classes, nb_epochs, mini_batch_size):\n",
    "    \n",
    "\n",
    "\n",
    "def train_model(model, train_input, train_target, train_classes, nb_epochs, mini_batch_size):\n",
    "    criterion = nn.CrossEntropyLoss()\n",
    "    eta = 1e-3\n",
    "    loss_coeff = 10\n",
    "    optimizer = optim.Adam(model.parameters(), lr = eta)\n",
    "    \n",
    "    for e in range(nb_epochs):    \n",
    "        \n",
    "        for b in range(0, train_input.size(0), mini_batch_size):\n",
    "            digit1, digit2, result = model(train_input.narrow(0, b, mini_batch_size))\n",
    "                \n",
    "            loss_result = criterion(result, train_target.narrow(0, b, mini_batch_size))\n",
    "            loss_digit1 = criterion(digit1, train_classes[:,0].narrow(0, b, mini_batch_size))\n",
    "            loss_digit2 = criterion(digit2, train_classes[:,1].narrow(0, b, mini_batch_size))\n",
    "            \n",
    "            if model.AL:\n",
    "                loss = loss_result + loss_coeff*loss_digit1 + loss_coeff*loss_digit2\n",
    "            else:\n",
    "                loss = loss_result\n",
    "            \n",
    "            model.zero_grad()\n",
    "            loss.backward()\n",
    "            optimizer.step()"
   ]
  },
  {
   "cell_type": "code",
   "execution_count": null,
   "metadata": {},
   "outputs": [],
   "source": [
    "def compute_nb_errors(model, data_input, data_target, mini_batch_size):\n",
    "\n",
    "    nb_data_errors = 0\n",
    "\n",
    "    for b in range(0, data_input.size(0), mini_batch_size):\n",
    "        _, _, result = model.forward(data_input.narrow(0, b, mini_batch_size))\n",
    "        _, predicted_classes = torch.max(result, 1)\n",
    "        for k in range(mini_batch_size):\n",
    "            if data_target[b + k] != predicted_classes[k]:\n",
    "                nb_data_errors = nb_data_errors + 1\n",
    "\n",
    "    return nb_data_errors"
   ]
  },
  {
   "cell_type": "code",
   "execution_count": 52,
   "metadata": {},
   "outputs": [],
   "source": [
    "def create_problem(nb_samples):\n",
    "    \n",
    "    # Remark: the function .uniform return a uniform distribution on [0,1) instead of [0,1],\n",
    "    # but in our case it's not a problem since it is only a train and a test set on a circle\n",
    "    # that do not touch the border of the set [0,1]^2.\n",
    "    train_input = torch.empty(nb_samples, 2).uniform_(0, 1)\n",
    "    test_input = torch.empty(nb_samples, 2).uniform_(0, 1)\n",
    "    \n",
    "    # Radius of our circle\n",
    "    R = 1 / math.sqrt(2 * math.pi)\n",
    "    \n",
    "    train_classes = train_input.sub(0.5).pow(2).sum(1).sub(R**2).sign().sub(1).div(-2).long()\n",
    "    test_classes = test_input.sub(0.5).pow(2).sum(1).sub(R**2).sign().sub(1).div(-2).long()\n",
    "    \n",
    "    return train_input, train_classes, test_input, test_classes"
   ]
  },
  {
   "cell_type": "code",
   "execution_count": 56,
   "metadata": {},
   "outputs": [
    {
     "data": {
      "image/png": "[encoded data removed]",
      "text/plain": [
       "<Figure size 640x320 with 2 Axes>"
      ]
     },
     "metadata": {},
     "output_type": "display_data"
    }
   ],
   "source": [
    "train_input, train_target, _, _ = create_problem(1000)\n",
    "\n",
    "Label=train_target.view(-1).float() # 1- to display the other label\n",
    "x1=(train_input.narrow(1,0,1).view(-1)*Label).numpy();\n",
    "y1=(train_input.narrow(1,1,1).view(-1)*Label).numpy();\n",
    "x0=(train_input.narrow(1,0,1).view(-1)*(1-Label)).numpy();\n",
    "y0=(train_input.narrow(1,1,1).view(-1)*(1-Label)).numpy();\n",
    "plt.figure(num=None, figsize=(8, 4), dpi=80, facecolor='w', edgecolor='k')\n",
    "\n",
    "subplot=plt.subplot(1,2,1)\n",
    "axes = plt.gca();\n",
    "plt.title(\"Showing the dataset with the label 1\");\n",
    "subplot.plot(x1,y1,'go');\n",
    "axes.set_xlim([-2,2]);\n",
    "axes.set_ylim([-2,2]);\n",
    "subplot=plt.subplot(1,2,2)\n",
    "axes = plt.gca();\n",
    "plt.title(\"Showing the dataset with the label 0\");\n",
    "subplot.plot(x0,y0,'go');\n",
    "axes.set_xlim([-0.5,1.5]);\n",
    "axes.set_ylim([-0.5,1.5]);"
   ]
  },
  {
   "cell_type": "code",
   "execution_count": 53,
   "metadata": {},
   "outputs": [],
   "source": [
    "def get_tests(n):\n",
    "    M = []\n",
    "    for k in range (0, n):\n",
    "        L = []\n",
    "        _, _, _, test_input, test_target, test_classes =  create_problem(1000)\n",
    "        L.append(test_input)\n",
    "        L.append(test_target)\n",
    "        L.append(test_classes)\n",
    "        M.append(L)\n",
    "    return M"
   ]
  },
  {
   "cell_type": "code",
   "execution_count": 41,
   "metadata": {},
   "outputs": [
    {
     "data": {
      "text/plain": [
       "[<matplotlib.lines.Line2D at 0x7ffc449c5b20>,\n",
       " <matplotlib.lines.Line2D at 0x7ffc449c5b50>]"
      ]
     },
     "execution_count": 41,
     "metadata": {},
     "output_type": "execute_result"
    },
    {
     "data": {
      "image/png": "[encoded data removed]",
      "text/plain": [
       "<Figure size 432x288 with 1 Axes>"
      ]
     },
     "metadata": {
      "needs_background": "light"
     },
     "output_type": "display_data"
    }
   ],
   "source": [
    "tann = Tanh()\n",
    "x = torch.linspace(-10, 10, 100)\n",
    "y = tann.forward(x).tolist()\n",
    "z = tann.backward(x).tolist()\n",
    "x = x.tolist()\n",
    "plt.plot(x,y,x,z)"
   ]
  },
  {
   "cell_type": "code",
   "execution_count": null,
   "metadata": {},
   "outputs": [],
   "source": []
  }
 ],
 "metadata": {
  "kernelspec": {
   "display_name": "Python 3",
   "language": "python",
   "name": "python3"
  },
  "language_info": {
   "codemirror_mode": {
    "name": "ipython",
    "version": 3
   },
   "file_extension": ".py",
   "mimetype": "text/x-python",
   "name": "python",
   "nbconvert_exporter": "python",
   "pygments_lexer": "ipython3",
   "version": "3.8.3"
  }
 },
 "nbformat": 4,
 "nbformat_minor": 5
}
