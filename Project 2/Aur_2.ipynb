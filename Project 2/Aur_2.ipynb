{
 "cells": [
  {
   "cell_type": "code",
   "execution_count": 1,
   "metadata": {},
   "outputs": [
    {
     "data": {
      "text/plain": [
       "<torch.autograd.grad_mode.set_grad_enabled at 0x7ff7b4dc4e80>"
      ]
     },
     "execution_count": 1,
     "metadata": {},
     "output_type": "execute_result"
    }
   ],
   "source": [
    "import torch\n",
    "import math\n",
    "\n",
    "# Just use for the plots at the end\n",
    "import matplotlib.pyplot as plt\n",
    "from numpy import exp,arange\n",
    "import numpy as np\n",
    "import math\n",
    "from pylab import meshgrid,cm,imshow,contour,clabel,colorbar,axis,title,show\n",
    "\n",
    "torch.set_grad_enabled(False)"
   ]
  },
  {
   "cell_type": "code",
   "execution_count": 2,
   "metadata": {},
   "outputs": [],
   "source": [
    "class Module(object) :\n",
    "    def __init__(self):\n",
    "        super().__init__()\n",
    "    \n",
    "    def forward(self , *input):\n",
    "        raise  NotImplementedError\n",
    "        \n",
    "    def backward(self , *gradwrtoutput):\n",
    "        raise  NotImplementedError\n",
    "        \n",
    "    def param(self): # These are the layers of the network\n",
    "        return  []"
   ]
  },
  {
   "cell_type": "code",
   "execution_count": 3,
   "metadata": {},
   "outputs": [],
   "source": [
    "class Layer(Module):\n",
    "    def __init__(self):\n",
    "        super().__init__()\n",
    "        self.dropout = False\n",
    "        self.linear = False\n",
    "        \n",
    "    def is_dropout(self):\n",
    "        self.dropout = True\n",
    "    \n",
    "    def is_linear(self):\n",
    "        self.linear = True"
   ]
  },
  {
   "cell_type": "code",
   "execution_count": 4,
   "metadata": {},
   "outputs": [],
   "source": [
    "class Sequential(Module):\n",
    "    def __init__(self, param, Loss):\n",
    "        super().__init__()\n",
    "        self.model = (param)\n",
    "        self.loss = Loss\n",
    "    \n",
    "    def forward(self, x):\n",
    "        for layer in self.model:\n",
    "            x = layer.forward(x)\n",
    "        return x\n",
    "    \n",
    "    def backward(self, output, target):\n",
    "        grad = self.loss.backward(target, output)\n",
    "        \n",
    "        for layer in reversed(self.model):\n",
    "            grad = layer.backward(grad)\n",
    "        \n",
    "        Loss = self.loss.forward(target, output)\n",
    "        return Loss\n",
    "    \n",
    "    def Train(self):\n",
    "        for layer in self.model:\n",
    "            if layer.dropout:\n",
    "                layer.Train()\n",
    "        \n",
    "    def Eval(self):\n",
    "        for layer in self.model:\n",
    "            if layer.dropout:\n",
    "                layer.Eval()\n",
    "    \n",
    "    def lr_method(self, method, lr):\n",
    "        for layer in self.model:\n",
    "            if layer.linear:\n",
    "                layer.change_lr_method(method, lr)"
   ]
  },
  {
   "cell_type": "code",
   "execution_count": 5,
   "metadata": {},
   "outputs": [],
   "source": [
    "class Linear(Layer):\n",
    "    def __init__(self, in_, out_):\n",
    "        super().__init__()\n",
    "        self.in_ = in_\n",
    "        self.out_ = out_\n",
    "        self.is_linear()\n",
    "        self.lr = 0.005\n",
    "        self.lr_method = 'constant'\n",
    "        \n",
    "        # Capture the term at each layer before the passage in the layer\n",
    "        # and the activation function.\n",
    "        self.x = torch.zeros(out_)\n",
    "        \n",
    "        # Initialization of Adam for weight and bias\n",
    "        self.beta1 = 0.9\n",
    "        self.beta2 = 0.999\n",
    "        self.eps = 1.0e-8\n",
    "        self.eta = 1.0e-1\n",
    "        self.mw = torch.zeros(out_)\n",
    "        self.mb = torch.zeros(out_)\n",
    "        self.vw = 0.0\n",
    "        self.vb = 0.0\n",
    "        \n",
    "        # Initialization of the weights and the bias\n",
    "        param = 1. / math.sqrt(in_)\n",
    "        self.weight = torch.empty(self.in_, self.out_).uniform_(-param, param)\n",
    "        self.bias = torch.empty(self.out_).uniform_(-param, param)\n",
    "        \n",
    "    def forward(self, x):\n",
    "        self.x = x\n",
    "        return x.mm(self.weight) + self.bias\n",
    "    \n",
    "    def set_Lr(self, lr):\n",
    "        self.lr = lr\n",
    "        return\n",
    "        \n",
    "    def backward(self, grad):\n",
    "        \n",
    "        if self.lr_method == \"Adam\":\n",
    "            \n",
    "            # Adam method for the learning rate\n",
    "            gw = self.x.t().mm(grad)\n",
    "            self.mw = ((self.beta1 * self.mw) + ((1 - self.beta1) * gw))\n",
    "            mh = (1 / (1 - self.beta1)) * self.mw\n",
    "            self.vw = ((self.beta2 * self.vw) + ((1 - self.beta2) * (gw.norm()**2)))\n",
    "            vh = (1 / (1 - self.beta2)) * self.vw\n",
    "            self.weight = self.weight - ((self.eta / (vh.sqrt() + self.eps)) * mh)\n",
    "\n",
    "            self.mb = ((self.beta1 * self.mb) + ((1 - self.beta1) * grad))\n",
    "            mh = (1 / (1 - self.beta1)) * self.mb\n",
    "            self.vb = ((self.beta2 * self.vb) + ((1 - self.beta2) * (grad.norm()**2)))\n",
    "            vh = (1 / (1 - self.beta2)) * self.vb\n",
    "            self.bias = self.bias - ((self.eta / (vh.sqrt() + self.eps)) * mh)\n",
    "            grad = grad.mm(self.weight.t())\n",
    "            \n",
    "        elif self.lr_method == \"constant\":\n",
    "            \n",
    "            # Constant learning rate\n",
    "            self.weight = self.weight - self.lr * self.x.t().mm(grad)\n",
    "            self.bias = self.bias - self.lr * grad * 1\n",
    "            grad = grad.mm(self.weight.t())\n",
    "            \n",
    "        return grad\n",
    "    \n",
    "    def weight(self):\n",
    "        return self.weight\n",
    "    \n",
    "    def bias(self):\n",
    "        return self.bias\n",
    "    \n",
    "    def change_lr_method(self, method, lr):\n",
    "        self.lr = lr\n",
    "        self.lr_method = method"
   ]
  },
  {
   "cell_type": "code",
   "execution_count": 6,
   "metadata": {},
   "outputs": [],
   "source": [
    "class Dropout(Layer) :\n",
    "    def __init__(self):\n",
    "        super().__init__()\n",
    "        self.p = 0.\n",
    "        self.is_dropout()\n",
    "        self.train = True\n",
    "        \n",
    "    \n",
    "    def forward(self, x):\n",
    "        n = torch.ones(x.size())\n",
    "        if self.train:\n",
    "            n = torch.bernoulli(n) * (1 - self.p)\n",
    "        return x * n\n",
    "        \n",
    "    def backward(self, x):\n",
    "        return x\n",
    "    \n",
    "    def Train(self):\n",
    "        self.train = True\n",
    "        \n",
    "    def Eval(self):\n",
    "        self.train = False\n",
    "        "
   ]
  },
  {
   "cell_type": "code",
   "execution_count": 7,
   "metadata": {},
   "outputs": [],
   "source": [
    "class LossMSE(Layer):\n",
    "    def __init__(self):\n",
    "        super().__init__() \n",
    "    \n",
    "    def forward(self, data_target, data_output):\n",
    "        loss = (data_output - data_target).pow(2).sum()\n",
    "        return loss\n",
    "    \n",
    "    def backward(self, data_target, data_output):\n",
    "        dloss = 2 * (data_output - data_target)\n",
    "        return dloss\n",
    "    \n",
    "    def is_MSE(self):\n",
    "        return True"
   ]
  },
  {
   "cell_type": "code",
   "execution_count": 8,
   "metadata": {},
   "outputs": [],
   "source": [
    "class CrossEntropyLoss(Module):\n",
    "    def __init__(self):\n",
    "        super().__init__()\n",
    "        \n",
    "    def forward(self, data_target, data_output):\n",
    "        output = data_output.to(dtype=torch.float)\n",
    "        target = data_target.resize_(data_target.size(0), 1)\n",
    "        \n",
    "        zer = torch.zeros(target.size()).int()\n",
    "        target = torch.cat((target,zer), 1)\n",
    "    \n",
    "        first_column = torch.tensor([0])\n",
    "        loss = output.gather(1,target).index_select(1,first_column).exp()\n",
    "        \n",
    "        # To avoid numerical error in the computation\n",
    "        maxx = loss.max()\n",
    "        \n",
    "        loss = (loss * maxx) / (output.exp().sum(1) * maxx)\n",
    "        loss = -(loss.log().mean())\n",
    "        return loss\n",
    "    \n",
    "    def backward(self, data_target, data_output):\n",
    "        # New version\n",
    "        N = data_target.size(0)\n",
    "        dloss = data_output.exp()\n",
    "        dloss = dloss / dloss.sum(1).resize_(N,1)\n",
    "        \n",
    "        add = data_target-1\n",
    "        add = torch.cat((add, -data_target), 1)\n",
    "        dloss = (1/N) * (dloss + add)\n",
    "        return dloss\n",
    "    \n",
    "    def is_MSE(self):\n",
    "        return False"
   ]
  },
  {
   "cell_type": "code",
   "execution_count": 9,
   "metadata": {},
   "outputs": [],
   "source": [
    "class ReLU(Layer):\n",
    "    \n",
    "    def __init__(self ):\n",
    "        super().__init__()\n",
    "        self.save = 0\n",
    "        \n",
    "    def forward(self, x):\n",
    "        y = x.clamp(min = 0)\n",
    "        self.save = x\n",
    "        return y\n",
    "    \n",
    "    def backward(self, x):\n",
    "        y = self.save > 0\n",
    "        return y.float() * x\n",
    "         \n",
    "    def print(self):\n",
    "        return"
   ]
  },
  {
   "cell_type": "code",
   "execution_count": 36,
   "metadata": {},
   "outputs": [],
   "source": [
    "class Leaky_ReLU(Layer):\n",
    "    \n",
    "    def __init__(self ):\n",
    "        super().__init__()\n",
    "        self.s = 0\n",
    "        self.alpha = 0.01\n",
    "        \n",
    "    def forward(self, x):\n",
    "        y = torch.maximum(self.alpha * x, x)\n",
    "        self.s = x\n",
    "        return y\n",
    "    \n",
    "    def backward(self, x):\n",
    "        y = ((self.s > 0) * (1 - self.alpha)) + self.alpha\n",
    "        return y.float() * x\n",
    "         \n",
    "    def print(self):\n",
    "        return"
   ]
  },
  {
   "cell_type": "code",
   "execution_count": 34,
   "metadata": {},
   "outputs": [],
   "source": [
    "class ELU(Layer):\n",
    "    \n",
    "    def __init__(self):\n",
    "        super().__init__()\n",
    "        self.s = 0\n",
    "        self.alpha = 0.01\n",
    "        \n",
    "    def forward(self, x):\n",
    "        y = ((x > 0).float() * x) + (0 >= x) * self.alpha * (torch.exp(x) - 1)\n",
    "        self.s = x\n",
    "        return y\n",
    "    \n",
    "    def backward(self, x):\n",
    "        y = ((self.s > 0) * (1 - self.alpha * torch.exp(self.s))) + self.alpha * torch.exp(self.s)\n",
    "        return y.float() * x"
   ]
  },
  {
   "cell_type": "code",
   "execution_count": 12,
   "metadata": {},
   "outputs": [],
   "source": [
    "class Tanh(Layer) :\n",
    "    def __init__(self, ):\n",
    "        super().__init__()\n",
    "        self.save = 0\n",
    "    \n",
    "    def  forward(self, x):\n",
    "        self.save = x\n",
    "        return torch.div(x.exp() - (-x).exp(), x.exp() + (-x).exp())\n",
    "        \n",
    "    def  backward(self, x):\n",
    "        return (1 - torch.div(self.save.exp() - \n",
    "                    (-self.save).exp(), self.save.exp() + (-self.save).exp())**2) * x\n",
    "        \n",
    "    def print(self):\n",
    "        return"
   ]
  },
  {
   "cell_type": "code",
   "execution_count": 13,
   "metadata": {},
   "outputs": [],
   "source": [
    "class Sigmoid(Layer):\n",
    "    \n",
    "    def __init__(self):\n",
    "        super().__init__()\n",
    "        self.s = 0\n",
    "        self.lbd = 3\n",
    "        \n",
    "    def forward(self, x):\n",
    "        y = 1 / (1 + torch.exp(-self.lbd * x))\n",
    "        self.s = x\n",
    "        return y\n",
    "    \n",
    "    def backward(self, x):\n",
    "        y = self.lbd * torch.exp(-self.s) / ((1 + torch.exp(-self.lbd * self.s))**2)\n",
    "        return y.float() * x  "
   ]
  },
  {
   "cell_type": "code",
   "execution_count": 14,
   "metadata": {},
   "outputs": [],
   "source": [
    "def create_random_batch(input_size, mini_batch_size):\n",
    "    \n",
    "    # This function return a 2D tensor that is the rando selection of inputs for our\n",
    "    # stochastic gradient method, taking in count the number of mini_batches.\n",
    "    \n",
    "    # We suppose here that our mini_batch_size is well chosen taking in count the fact\n",
    "    # that it divides input_size.\n",
    "    \n",
    "    # Initialization\n",
    "    L = int(input_size / mini_batch_size)\n",
    "    new_batch = torch.ones(L, mini_batch_size)\n",
    "    \n",
    "    indices = torch.randperm(input_size)\n",
    "    for k in range(L):\n",
    "        new_batch[k] = indices[k * mini_batch_size : (k+1) * mini_batch_size]\n",
    "    \n",
    "    return new_batch"
   ]
  },
  {
   "cell_type": "code",
   "execution_count": 15,
   "metadata": {},
   "outputs": [],
   "source": [
    "def train_model(model, train_input, train_classes, nb_epochs, mini_batch_size):\n",
    "    \n",
    "    for epoch in range(nb_epochs):\n",
    "        random_batches = create_random_batch(train_input.size(0), mini_batch_size).long()\n",
    "        for batch in random_batches:\n",
    "            output = model.forward(train_input[batch])\n",
    "            loss = model.backward(output, train_classes[batch])"
   ]
  },
  {
   "cell_type": "code",
   "execution_count": 16,
   "metadata": {},
   "outputs": [],
   "source": [
    "def compute_nb_errors(model, data_input, data_target, mini_batch_size):\n",
    "    \n",
    "    nb_data_errors = 0\n",
    "\n",
    "    for b in range(0, data_input.size(0), mini_batch_size):\n",
    "        result = model.forward(data_input.narrow(0, b, mini_batch_size))\n",
    "        \n",
    "        # Display which allows the diagnosis of the dying-ReLU: \n",
    "        # result is always equal to 0 when ReLU is not working.\n",
    "        # print(result)\n",
    "        \n",
    "        if model.loss.is_MSE():\n",
    "            # If the loss function is MSE\n",
    "            predicted_classes = (result >= 0.5).int()\n",
    "        else:\n",
    "            # If the loss function is CrossEntropy\n",
    "            _, predicted_classes = torch.max(result, 1)\n",
    "        \n",
    "        for k in range(mini_batch_size):\n",
    "            if data_target[b + k] != predicted_classes[k]:\n",
    "                nb_data_errors = nb_data_errors + 1\n",
    "                \n",
    "    return nb_data_errors"
   ]
  },
  {
   "cell_type": "code",
   "execution_count": 17,
   "metadata": {},
   "outputs": [],
   "source": [
    "def train_and_test_model(Models, train_input, train_classes, Tests, nb_epochs, mini_batch_size):\n",
    "    \n",
    "    Train_error = []\n",
    "    Test_error = []\n",
    "    std_deviation = 0.0\n",
    "    train_error = 0.0\n",
    "    avg_nb_test_error = torch.tensor(())\n",
    "    \n",
    "    for k in range (0, len(Models)):\n",
    "        model = Models[k]\n",
    "        \n",
    "        model.lr_method(\"Adam\", 1.0e-3)\n",
    "        \n",
    "        train_model(model, train_input, train_classes, nb_epochs, mini_batch_size)\n",
    "        \n",
    "        model.Eval()\n",
    "        nb_train_errors = compute_nb_errors(model, train_input, train_classes, mini_batch_size)\n",
    "        train_error += nb_train_errors / 10\n",
    "            \n",
    "        nb_test_errors = compute_nb_errors(model, Tests[k][0], Tests[k][1], mini_batch_size)\n",
    "        model.Train()\n",
    "        nb_test_errors = torch.tensor([nb_test_errors / 10]).float()\n",
    "        avg_nb_test_error = torch.cat((avg_nb_test_error, nb_test_errors), 0)\n",
    "        \n",
    "    Train_error.append(train_error / len(Models))\n",
    "    Test_error.append(avg_nb_test_error.mean().tolist())\n",
    "    std_deviation = avg_nb_test_error.std().tolist()\n",
    "    \n",
    "    return Train_error, Test_error, std_deviation"
   ]
  },
  {
   "cell_type": "code",
   "execution_count": 18,
   "metadata": {},
   "outputs": [],
   "source": [
    "def create_problem(nb_samples):\n",
    "    \n",
    "    # Remark: the function .uniform return a uniform distribution on [0,1) instead of [0,1],\n",
    "    # but in our case it's not a problem since it is only a train and a test set on a circle\n",
    "    # that do not touch the border of the set [0,1]^2.\n",
    "    train_input = torch.empty(nb_samples, 2).uniform_(0, 1)\n",
    "    test_input = torch.empty(nb_samples, 2).uniform_(0, 1)\n",
    "    \n",
    "    # Radius of our circle\n",
    "    R = 1 / math.sqrt(2 * math.pi)\n",
    "    \n",
    "    train_classes = train_input.sub(0.5).pow(2).sum(1).sub(R**2).sign().sub(1).div(-2).long().resize_((nb_samples,1))\n",
    "    test_classes = test_input.sub(0.5).pow(2).sum(1).sub(R**2).sign().sub(1).div(-2).long().resize_((nb_samples,1))\n",
    "    \n",
    "    return train_input, train_classes, test_input, test_classes"
   ]
  },
  {
   "cell_type": "code",
   "execution_count": 19,
   "metadata": {},
   "outputs": [],
   "source": [
    "def get_tests(n):\n",
    "    M = []\n",
    "    for k in range (n):\n",
    "        L = []\n",
    "        _, _, test_input, test_classes =  create_problem(1000)\n",
    "        L.append(test_input)\n",
    "        L.append(test_classes)\n",
    "        M.append(L)\n",
    "    return M"
   ]
  },
  {
   "cell_type": "code",
   "execution_count": 20,
   "metadata": {},
   "outputs": [],
   "source": [
    "def soft_max(data_output):\n",
    "    output = data_output.to(dtype=torch.float)\n",
    "    L = output.exp()\n",
    "    \n",
    "    # To avoid numerical error in the computation\n",
    "    maxx = L.max()\n",
    "    \n",
    "    L = torch.div((L * maxx), (output.exp().sum(1).resize(L.size(0),1) * maxx))\n",
    "    return L"
   ]
  },
  {
   "cell_type": "code",
   "execution_count": 21,
   "metadata": {},
   "outputs": [],
   "source": [
    "nb_epochs = 100\n",
    "mini_batch_size = 10\n",
    "nb_rounds = 10\n",
    "train_input, train_classes, _, _ = create_problem(1000)\n",
    "Tests = get_tests(nb_rounds)"
   ]
  },
  {
   "cell_type": "code",
   "execution_count": 22,
   "metadata": {},
   "outputs": [],
   "source": [
    "# TU COMMENCES ICI"
   ]
  },
  {
   "cell_type": "code",
   "execution_count": 23,
   "metadata": {},
   "outputs": [],
   "source": [
    "# Initialization of our different architectures\n",
    "\n",
    "def get_Models(Loss, nb_rounds):\n",
    "    \n",
    "    Model_ReLU_List = []\n",
    "    Model_Tanh_List = []\n",
    "    Model_Sigmoid_List = []\n",
    "    Model_Leaky_ReLU_List = []\n",
    "    Model_ELU_List = []\n",
    "    \n",
    "    out = 2\n",
    "    if (Loss.is_MSE()):\n",
    "        out = 1\n",
    "    \n",
    "    for k in range (0, nb_rounds):\n",
    "        Model_ReLU_List.append(Sequential([Linear(2,25), ReLU(), Linear(25,25), ReLU(), Linear(25,25), ReLU(), Linear(25,out), ReLU()], Loss))\n",
    "        Model_Tanh_List.append(Sequential([Linear(2,25), Tanh(), Linear(25,25), Tanh(), Linear(25,25), Tanh(), Linear(25,out), Tanh()], Loss))\n",
    "        Model_Sigmoid_List.append(Sequential([Linear(2,25), Sigmoid(), Linear(25,25), Sigmoid(), Linear(25,25), Sigmoid(), Linear(25,out), Sigmoid()], Loss))\n",
    "        Model_Leaky_ReLU_List.append(Sequential([Linear(2,25), Leaky_ReLU(), Linear(25,25), Leaky_ReLU(), Linear(25,25), Leaky_ReLU(), Linear(25,out), Leaky_ReLU()], Loss))\n",
    "        Model_ELU_List.append(Sequential([Linear(2,25), ELU(), Linear(25,25), ELU(), Linear(25,25), ELU(), Linear(25,out), ELU()], Loss))\n",
    "        \n",
    "    return Model_ReLU_List, Model_Tanh_List, Model_Sigmoid_List, Model_Leaky_ReLU_List, Model_ELU_List"
   ]
  },
  {
   "cell_type": "code",
   "execution_count": 24,
   "metadata": {},
   "outputs": [],
   "source": [
    "# Loss = MSE Loss"
   ]
  },
  {
   "cell_type": "code",
   "execution_count": 25,
   "metadata": {},
   "outputs": [],
   "source": [
    "Model_ReLU_MSE, Model_Tanh_MSE, Model_Sigmoid_MSE, Model_Leaky_ReLU_MSE, Model_ELU_MSE = \\\n",
    "    get_Models(LossMSE(), nb_rounds)"
   ]
  },
  {
   "cell_type": "code",
   "execution_count": 26,
   "metadata": {},
   "outputs": [
    {
     "name": "stdout",
     "output_type": "stream",
     "text": [
      "Average train_error on 10 Sequential models with ReLU and LossMSE is 20.87 %\n",
      "Average test_error on 10 Sequential models with ReLU and LossMSE is 21.920001983642578 %\n",
      "Standard deviation corresponding to the average on test_error just above is  23.53195571899414 %\n"
     ]
    }
   ],
   "source": [
    "Train_error_ReLU_MSE, Test_error_ReLU_MSE, std_deviation_ReLU_MSE = \\\n",
    "    train_and_test_model(Model_ReLU_MSE, train_input, train_classes, Tests, nb_epochs, mini_batch_size)\n",
    "\n",
    "#Average train_error (%) on number_of_rounds Sequential models with ReLU and LossMSE \n",
    "print(\"Average train_error on\", nb_rounds,\"Sequential models with ReLU and LossMSE is\",Train_error_ReLU_MSE[0],'%')\n",
    "\n",
    "#Average test_error (%) on number_of_rounds Sequential models with ReLU and LossMSE \n",
    "print(\"Average test_error on\", nb_rounds,\"Sequential models with ReLU and LossMSE is\",Test_error_ReLU_MSE[0],\"%\")\n",
    "\n",
    "#Standard deviation corresponding to the average on test_error just above\n",
    "print(\"Standard deviation corresponding to the average on test_error just above is \", std_deviation_ReLU_MSE, \"%\")"
   ]
  },
  {
   "cell_type": "code",
   "execution_count": 27,
   "metadata": {},
   "outputs": [
    {
     "name": "stdout",
     "output_type": "stream",
     "text": [
      "Average train_error on 10 Sequential models with Tanh and LossMSE is 4.64 %\n",
      "Average test_error on 10 Sequential models with Tanh and LossMSE is 4.970000267028809 %\n",
      "Standard deviation corresponding to the average on test_error just above is  1.9102355241775513 %\n"
     ]
    }
   ],
   "source": [
    "Train_error_Tanh_MSE, Test_error_Tanh_MSE, std_deviation_Tanh_MSE = \\\n",
    "    train_and_test_model(Model_Tanh_MSE, train_input, train_classes, Tests, nb_epochs, mini_batch_size)\n",
    "\n",
    "#Average train_error (%) on number_of_rounds Sequential models with Tanh and LossMSE\n",
    "print(\"Average train_error on\", nb_rounds,\"Sequential models with Tanh and LossMSE is\",Train_error_Tanh_MSE[0],'%')\n",
    "\n",
    "#Average test_error (%) on number_of_rounds Sequential models with Tanh and LossMSE \n",
    "print(\"Average test_error on\", nb_rounds,\"Sequential models with Tanh and LossMSE is\",Test_error_Tanh_MSE[0],\"%\")\n",
    "\n",
    "#Standard deviation corresponding to the average on test_error just above\n",
    "print(\"Standard deviation corresponding to the average on test_error just above is \", std_deviation_Tanh_MSE, \"%\")"
   ]
  },
  {
   "cell_type": "code",
   "execution_count": 28,
   "metadata": {},
   "outputs": [
    {
     "name": "stdout",
     "output_type": "stream",
     "text": [
      "Average train_error on 10 Sequential models with Sigmoid and LossMSE is 13.319999999999999 %\n",
      "Average test_error on 10 Sequential models with Sigmoid and LossMSE is 12.649999618530273 %\n",
      "Standard deviation corresponding to the average on test_error just above is  12.538938522338867 %\n"
     ]
    }
   ],
   "source": [
    "Train_error_Sigmoid_MSE, Test_error_Sigmoid_MSE, std_deviation_Sigmoid_MSE = \\\n",
    "    train_and_test_model(Model_Sigmoid_MSE, train_input, train_classes, Tests, nb_epochs, mini_batch_size)\n",
    "\n",
    "#Average train_error (%) on number_of_rounds Sequential models with Sigmoid and LossMSE \n",
    "print(\"Average train_error on\", nb_rounds,\"Sequential models with Sigmoid and LossMSE is\",Train_error_Sigmoid_MSE[0],'%')\n",
    "\n",
    "#Average test_error (%) on number_of_rounds Sequential models with Sigmoid and LossMSE \n",
    "print(\"Average test_error on\", nb_rounds,\"Sequential models with Sigmoid and LossMSE is\",Test_error_Sigmoid_MSE[0],\"%\")\n",
    "\n",
    "#Standard deviation corresponding to the average on test_error just above\n",
    "print(\"Standard deviation corresponding to the average on test_error just above is \", std_deviation_Sigmoid_MSE, \"%\")"
   ]
  },
  {
   "cell_type": "code",
   "execution_count": 29,
   "metadata": {},
   "outputs": [
    {
     "name": "stdout",
     "output_type": "stream",
     "text": [
      "Average train_error on 10 Sequential models with Leaky_ReLU and LossMSE is 3.9299999999999997 %\n",
      "Average test_error on 10 Sequential models with Leaky_ReLU and LossMSE is 4.309999465942383 %\n",
      "Standard deviation corresponding to the average on test_error just above is  1.3827911615371704 %\n"
     ]
    }
   ],
   "source": [
    "Train_error_Leaky_ReLU_MSE, Test_error_Leaky_ReLU_MSE, std_deviation_Leaky_ReLU_MSE = \\\n",
    "    train_and_test_model(Model_Leaky_ReLU_MSE, train_input, train_classes, Tests, nb_epochs, mini_batch_size)\n",
    "\n",
    "#Average train_error (%) on number_of_rounds Sequential models with Leaky_ReLU and LossMSE \n",
    "print(\"Average train_error on\", nb_rounds,\"Sequential models with Leaky_ReLU and LossMSE is\",Train_error_Leaky_ReLU_MSE[0],'%')\n",
    "\n",
    "#Average test_error (%) on number_of_rounds Sequential models with Leaky_ReLU and LossMSE \n",
    "print(\"Average test_error on\", nb_rounds,\"Sequential models with Leaky_ReLU and LossMSE is\",Test_error_Leaky_ReLU_MSE[0],\"%\")\n",
    "\n",
    "#Standard deviation corresponding to the average on test_error just above\n",
    "print(\"Standard deviation corresponding to the average on test_error just above is \", std_deviation_Leaky_ReLU_MSE, \"%\")"
   ]
  },
  {
   "cell_type": "code",
   "execution_count": 30,
   "metadata": {},
   "outputs": [
    {
     "name": "stdout",
     "output_type": "stream",
     "text": [
      "Average train_error on 10 Sequential models with ELU and LossMSE is 3.4799999999999995 %\n",
      "Average test_error on 10 Sequential models with ELU and LossMSE is 3.8400001525878906 %\n",
      "Standard deviation corresponding to the average on test_error just above is  0.8579044342041016 %\n"
     ]
    }
   ],
   "source": [
    "Train_error_ELU_MSE, Test_error_ELU_MSE, std_deviation_ELU_MSE = \\\n",
    "    train_and_test_model(Model_ELU_MSE, train_input, train_classes, Tests, nb_epochs, mini_batch_size)\n",
    "\n",
    "\n",
    "#Average train_error (%) on number_of_rounds Sequential models with ELU and LossMSE \n",
    "print(\"Average train_error on\", nb_rounds,\"Sequential models with ELU and LossMSE is\",Train_error_ELU_MSE[0],'%')\n",
    "\n",
    "#Average test_error (%) on number_of_rounds Sequential models with ELU and LossMSE \n",
    "print(\"Average test_error on\", nb_rounds,\"Sequential models with ELU and LossMSE is\",Test_error_ELU_MSE[0],\"%\")\n",
    "\n",
    "#Standard deviation corresponding to the average on test_error just above\n",
    "print(\"Standard deviation corresponding to the average on test_error just above is \", std_deviation_ELU_MSE, \"%\")"
   ]
  },
  {
   "cell_type": "code",
   "execution_count": 31,
   "metadata": {},
   "outputs": [],
   "source": [
    "# Loss = Cross-Entropy Loss"
   ]
  },
  {
   "cell_type": "code",
   "execution_count": 32,
   "metadata": {},
   "outputs": [],
   "source": [
    "Model_ReLU_CE, Model_Tanh_CE, Model_Sigmoid_CE, Model_Leaky_ReLU_CE, Model_ELU_CE = \\\n",
    "    get_Models(CrossEntropyLoss(), nb_rounds)"
   ]
  },
  {
   "cell_type": "code",
   "execution_count": 33,
   "metadata": {},
   "outputs": [
    {
     "name": "stdout",
     "output_type": "stream",
     "text": [
      "Average train_error on 10 Sequential models with Tanh and Cross-Entropy Loss is 8.370000000000001 %\n",
      "Average test_error on 10 Sequential models with Tanh and Cross-Entropy Loss is 9.149999618530273 %\n",
      "Standard deviation corresponding to the average on test_error just above is  15.187366485595703 %\n"
     ]
    }
   ],
   "source": [
    "Train_error_Tanh_CE, Test_error_Tanh_CE, std_deviation_Tanh_CE = \\\n",
    "    train_and_test_model(Model_Tanh_CE, train_input, train_classes, Tests, nb_epochs, mini_batch_size)\n",
    "\n",
    "#Average train_error (%) on number_of_rounds Sequential models with Tanh and Cross-Entropy Loss\n",
    "print(\"Average train_error on\", nb_rounds,\"Sequential models with Tanh and Cross-Entropy Loss is\",Train_error_Tanh_CE[0],'%')\n",
    "\n",
    "#Average test_error (%) on number_of_rounds Sequential models with Tanh and Cross-Entropy Loss\n",
    "print(\"Average test_error on\", nb_rounds,\"Sequential models with Tanh and Cross-Entropy Loss is\",Test_error_Tanh_CE[0],\"%\")\n",
    "\n",
    "#Standard deviation corresponding to the average on test_error just above\n",
    "print(\"Standard deviation corresponding to the average on test_error just above is \", std_deviation_Tanh_CE, \"%\")"
   ]
  },
  {
   "cell_type": "code",
   "execution_count": 34,
   "metadata": {},
   "outputs": [
    {
     "name": "stdout",
     "output_type": "stream",
     "text": [
      "Average train_error on 10 Sequential models with Sigmoid and Cross-Entropy Loss is 51.4 %\n",
      "Average test_error on 10 Sequential models with Sigmoid and Cross-Entropy Loss is 50.27000045776367 %\n",
      "Standard deviation corresponding to the average on test_error just above is  1.9510960578918457 %\n"
     ]
    }
   ],
   "source": [
    "Train_error_Sigmoid_CE, Test_error_Sigmoid_CE, std_deviation_Sigmoid_CE = \\\n",
    "    train_and_test_model(Model_Sigmoid_CE, train_input, train_classes, Tests, nb_epochs, mini_batch_size)\n",
    "\n",
    "#Average train_error (%) on number_of_rounds Sequential models with Sigmoid and Cross-Entropy Loss\n",
    "print(\"Average train_error on\", nb_rounds,\"Sequential models with Sigmoid and Cross-Entropy Loss is\",Train_error_Sigmoid_CE[0],'%')\n",
    "\n",
    "#Average test_error (%) on number_of_rounds Sequential models with Sigmoid and Cross-Entropy Loss\n",
    "print(\"Average test_error on\", nb_rounds,\"Sequential models with Sigmoid and Cross-Entropy Loss is\",Test_error_Sigmoid_CE[0],\"%\")\n",
    "\n",
    "#Standard deviation corresponding to the average on test_error just above\n",
    "print(\"Standard deviation corresponding to the average on test_error just above is \", std_deviation_Sigmoid_CE, \"%\")"
   ]
  },
  {
   "cell_type": "code",
   "execution_count": 35,
   "metadata": {},
   "outputs": [
    {
     "name": "stdout",
     "output_type": "stream",
     "text": [
      "Average train_error on 10 Sequential models with Leaky_ReLU and Cross-Entropy Loss is 25.21 %\n",
      "Average test_error on 10 Sequential models with Leaky_ReLU and Cross-Entropy Loss is 26.560001373291016 %\n",
      "Standard deviation corresponding to the average on test_error just above is  23.983291625976562 %\n"
     ]
    }
   ],
   "source": [
    "Train_error_Leaky_ReLU_CE, Test_error_Leaky_ReLU_CE, std_deviation_Leaky_ReLU_CE = \\\n",
    "    train_and_test_model(Model_Leaky_ReLU_CE, train_input, train_classes, Tests, nb_epochs, mini_batch_size)\n",
    "\n",
    "#Average train_error (%) on number_of_rounds Sequential models with Leaky_ReLU and Cross-Entropy Loss\n",
    "print(\"Average train_error on\", nb_rounds,\"Sequential models with Leaky_ReLU and Cross-Entropy Loss is\",Train_error_Leaky_ReLU_CE[0],'%')\n",
    "\n",
    "#Average test_error (%) on number_of_rounds Sequential models with Leaky_ReLU and Cross-Entropy Loss \n",
    "print(\"Average test_error on\", nb_rounds,\"Sequential models with Leaky_ReLU and Cross-Entropy Loss is\",Test_error_Leaky_ReLU_CE[0],\"%\")\n",
    "\n",
    "#Standard deviation corresponding to the average on test_error just above\n",
    "print(\"Standard deviation corresponding to the average on test_error just above is \", std_deviation_Leaky_ReLU_CE, \"%\")"
   ]
  },
  {
   "cell_type": "code",
   "execution_count": 36,
   "metadata": {},
   "outputs": [
    {
     "name": "stdout",
     "output_type": "stream",
     "text": [
      "Average train_error on 10 Sequential models with ELU and Cross-Entropy Loss is 29.919999999999998 %\n",
      "Average test_error on 10 Sequential models with ELU and Cross-Entropy Loss is 30.299999237060547 %\n",
      "Standard deviation corresponding to the average on test_error just above is  21.708011627197266 %\n"
     ]
    }
   ],
   "source": [
    "Train_error_ELU_CE, Test_error_ELU_CE, std_deviation_ELU_CE = \\\n",
    "    train_and_test_model(Model_ELU_CE, train_input, train_classes, Tests, nb_epochs, mini_batch_size)\n",
    "\n",
    "\n",
    "#Average train_error (%) on number_of_rounds Sequential models with ELU and Cross-Entropy Loss\n",
    "print(\"Average train_error on\", nb_rounds,\"Sequential models with ELU and Cross-Entropy Loss is\",Train_error_ELU_CE[0],'%')\n",
    "\n",
    "#Average test_error (%) on number_of_rounds Sequential models with ELU and Cross-Entropy Loss\n",
    "print(\"Average test_error on\", nb_rounds,\"Sequential models with ELU and Cross-Entropy Loss is\",Test_error_ELU_CE[0],\"%\")\n",
    "\n",
    "#Standard deviation corresponding to the average on test_error just above\n",
    "print(\"Standard deviation corresponding to the average on test_error just above is \", std_deviation_ELU_CE, \"%\")"
   ]
  },
  {
   "cell_type": "code",
   "execution_count": null,
   "metadata": {},
   "outputs": [],
   "source": [
    "#Dropout"
   ]
  },
  {
   "cell_type": "code",
   "execution_count": null,
   "metadata": {},
   "outputs": [],
   "source": [
    "Model_Tanh_Dropout "
   ]
  },
  {
   "cell_type": "code",
   "execution_count": 47,
   "metadata": {
    "scrolled": true
   },
   "outputs": [],
   "source": [
    "# PAS TOUCHE\n",
    "\n",
    "train_input, train_classes, _, _ = create_problem(1000)\n",
    "#print(train_input.size())\n",
    "#print(train_input.narrow(0, b, mini_batch_size).size())\n",
    "nb_epochs = 100\n",
    "mini_batch_size = 1\n",
    "\n",
    "model = Sequential([Linear(2,25), Tanh(), Linear(25,25), Tanh(), Linear(25,25), Tanh(), Linear(25,2), Tanh()], CrossEntropyLoss())\n",
    "model.lr_method(\"Adam\", 1.0e-3)\n",
    "train_model(model, train_input, train_classes, nb_epochs, mini_batch_size)"
   ]
  },
  {
   "cell_type": "code",
   "execution_count": 48,
   "metadata": {},
   "outputs": [
    {
     "name": "stdout",
     "output_type": "stream",
     "text": [
      "train error 50.90% 509.000000/1000.000000\n",
      "test error 50.80% 508.000000/1000.000000\n",
      "test error 50.20% 502.000000/1000.000000\n",
      "test error 50.70% 507.000000/1000.000000\n",
      "test error 48.50% 485.000000/1000.000000\n",
      "test error 49.10% 491.000000/1000.000000\n",
      "test error 49.20% 492.000000/1000.000000\n",
      "test error 47.60% 476.000000/1000.000000\n",
      "test error 46.40% 464.000000/1000.000000\n",
      "test error 49.90% 499.000000/1000.000000\n",
      "test error 51.10% 511.000000/1000.000000\n",
      "Average test error 49.35% 493.5/1000\n"
     ]
    }
   ],
   "source": [
    "nb_train_errors = compute_nb_errors(model, train_input, train_classes, mini_batch_size)\n",
    "print('train error {:0.2f}% {:f}/{:f}'.format((100 * nb_train_errors) / train_input.size(0), nb_train_errors, train_classes.size(0)))\n",
    "\n",
    "L = get_tests(10)\n",
    "average_nb_test_error = 0\n",
    "for k in range (0, len(L)):\n",
    "    nb_test_errors = compute_nb_errors(model, L[k][0], L[k][1], mini_batch_size)\n",
    "    average_nb_test_error += nb_test_errors\n",
    "    print('test error {:0.2f}% {:f}/{:f}'.format((100 * nb_test_errors) / L[k][0].size(0), nb_test_errors, L[k][0].size(0)))\n",
    "print('Average test error {:0.2f}% {:0.1f}/{:d}'.format((100*average_nb_test_error/len(L)) / L[0][0].size(0), average_nb_test_error/len(L), L[0][0].size(0)))"
   ]
  },
  {
   "cell_type": "code",
   "execution_count": 49,
   "metadata": {},
   "outputs": [
    {
     "name": "stderr",
     "output_type": "stream",
     "text": [
      "/Users/churchhyll/opt/anaconda3/lib/python3.8/site-packages/torch/tensor.py:447: UserWarning: non-inplace resize is deprecated\n",
      "  warnings.warn(\"non-inplace resize is deprecated\")\n"
     ]
    },
    {
     "ename": "KeyboardInterrupt",
     "evalue": "",
     "output_type": "error",
     "traceback": [
      "\u001b[0;31m---------------------------------------------------------------------------\u001b[0m",
      "\u001b[0;31mKeyboardInterrupt\u001b[0m                         Traceback (most recent call last)",
      "\u001b[0;32m<ipython-input-49-cc72a61a7df6>\u001b[0m in \u001b[0;36m<module>\u001b[0;34m\u001b[0m\n\u001b[1;32m     15\u001b[0m         \u001b[0;32melse\u001b[0m\u001b[0;34m:\u001b[0m\u001b[0;34m\u001b[0m\u001b[0;34m\u001b[0m\u001b[0m\n\u001b[1;32m     16\u001b[0m             \u001b[0;31m# Cross Entropy loss\u001b[0m\u001b[0;34m\u001b[0m\u001b[0;34m\u001b[0m\u001b[0;34m\u001b[0m\u001b[0m\n\u001b[0;32m---> 17\u001b[0;31m             \u001b[0moutput\u001b[0m \u001b[0;34m=\u001b[0m \u001b[0mmodel\u001b[0m\u001b[0;34m.\u001b[0m\u001b[0mforward\u001b[0m\u001b[0;34m(\u001b[0m\u001b[0me\u001b[0m\u001b[0;34m)\u001b[0m\u001b[0;34m\u001b[0m\u001b[0;34m\u001b[0m\u001b[0m\n\u001b[0m\u001b[1;32m     18\u001b[0m             \u001b[0moutput\u001b[0m \u001b[0;34m=\u001b[0m \u001b[0msoft_max\u001b[0m\u001b[0;34m(\u001b[0m\u001b[0moutput\u001b[0m\u001b[0;34m)\u001b[0m\u001b[0;34m\u001b[0m\u001b[0;34m\u001b[0m\u001b[0m\n\u001b[1;32m     19\u001b[0m \u001b[0;34m\u001b[0m\u001b[0m\n",
      "\u001b[0;32m<ipython-input-4-5691d51113be>\u001b[0m in \u001b[0;36mforward\u001b[0;34m(self, x)\u001b[0m\n\u001b[1;32m      7\u001b[0m     \u001b[0;32mdef\u001b[0m \u001b[0mforward\u001b[0m\u001b[0;34m(\u001b[0m\u001b[0mself\u001b[0m\u001b[0;34m,\u001b[0m \u001b[0mx\u001b[0m\u001b[0;34m)\u001b[0m\u001b[0;34m:\u001b[0m\u001b[0;34m\u001b[0m\u001b[0;34m\u001b[0m\u001b[0m\n\u001b[1;32m      8\u001b[0m         \u001b[0;32mfor\u001b[0m \u001b[0mlayer\u001b[0m \u001b[0;32min\u001b[0m \u001b[0mself\u001b[0m\u001b[0;34m.\u001b[0m\u001b[0mmodel\u001b[0m\u001b[0;34m:\u001b[0m\u001b[0;34m\u001b[0m\u001b[0;34m\u001b[0m\u001b[0m\n\u001b[0;32m----> 9\u001b[0;31m             \u001b[0mx\u001b[0m \u001b[0;34m=\u001b[0m \u001b[0mlayer\u001b[0m\u001b[0;34m.\u001b[0m\u001b[0mforward\u001b[0m\u001b[0;34m(\u001b[0m\u001b[0mx\u001b[0m\u001b[0;34m)\u001b[0m\u001b[0;34m\u001b[0m\u001b[0;34m\u001b[0m\u001b[0m\n\u001b[0m\u001b[1;32m     10\u001b[0m         \u001b[0;32mreturn\u001b[0m \u001b[0mx\u001b[0m\u001b[0;34m\u001b[0m\u001b[0;34m\u001b[0m\u001b[0m\n\u001b[1;32m     11\u001b[0m \u001b[0;34m\u001b[0m\u001b[0m\n",
      "\u001b[0;32m<ipython-input-12-5e977a4fd82c>\u001b[0m in \u001b[0;36mforward\u001b[0;34m(self, x)\u001b[0m\n\u001b[1;32m      6\u001b[0m     \u001b[0;32mdef\u001b[0m  \u001b[0mforward\u001b[0m\u001b[0;34m(\u001b[0m\u001b[0mself\u001b[0m\u001b[0;34m,\u001b[0m \u001b[0mx\u001b[0m\u001b[0;34m)\u001b[0m\u001b[0;34m:\u001b[0m\u001b[0;34m\u001b[0m\u001b[0;34m\u001b[0m\u001b[0m\n\u001b[1;32m      7\u001b[0m         \u001b[0mself\u001b[0m\u001b[0;34m.\u001b[0m\u001b[0msave\u001b[0m \u001b[0;34m=\u001b[0m \u001b[0mx\u001b[0m\u001b[0;34m\u001b[0m\u001b[0;34m\u001b[0m\u001b[0m\n\u001b[0;32m----> 8\u001b[0;31m         \u001b[0;32mreturn\u001b[0m \u001b[0mtorch\u001b[0m\u001b[0;34m.\u001b[0m\u001b[0mdiv\u001b[0m\u001b[0;34m(\u001b[0m\u001b[0mx\u001b[0m\u001b[0;34m.\u001b[0m\u001b[0mexp\u001b[0m\u001b[0;34m(\u001b[0m\u001b[0;34m)\u001b[0m \u001b[0;34m-\u001b[0m \u001b[0;34m(\u001b[0m\u001b[0;34m-\u001b[0m\u001b[0mx\u001b[0m\u001b[0;34m)\u001b[0m\u001b[0;34m.\u001b[0m\u001b[0mexp\u001b[0m\u001b[0;34m(\u001b[0m\u001b[0;34m)\u001b[0m\u001b[0;34m,\u001b[0m \u001b[0mx\u001b[0m\u001b[0;34m.\u001b[0m\u001b[0mexp\u001b[0m\u001b[0;34m(\u001b[0m\u001b[0;34m)\u001b[0m \u001b[0;34m+\u001b[0m \u001b[0;34m(\u001b[0m\u001b[0;34m-\u001b[0m\u001b[0mx\u001b[0m\u001b[0;34m)\u001b[0m\u001b[0;34m.\u001b[0m\u001b[0mexp\u001b[0m\u001b[0;34m(\u001b[0m\u001b[0;34m)\u001b[0m\u001b[0;34m)\u001b[0m\u001b[0;34m\u001b[0m\u001b[0;34m\u001b[0m\u001b[0m\n\u001b[0m\u001b[1;32m      9\u001b[0m \u001b[0;34m\u001b[0m\u001b[0m\n\u001b[1;32m     10\u001b[0m     \u001b[0;32mdef\u001b[0m  \u001b[0mbackward\u001b[0m\u001b[0;34m(\u001b[0m\u001b[0mself\u001b[0m\u001b[0;34m,\u001b[0m \u001b[0mx\u001b[0m\u001b[0;34m)\u001b[0m\u001b[0;34m:\u001b[0m\u001b[0;34m\u001b[0m\u001b[0;34m\u001b[0m\u001b[0m\n",
      "\u001b[0;31mKeyboardInterrupt\u001b[0m: "
     ]
    }
   ],
   "source": [
    "x = torch.linspace(0.0, 1.0, 1000)\n",
    "y = torch.linspace(0.0, 1.0, 1000)\n",
    "n = x.size(0)\n",
    "grid_x, grid_y = torch.meshgrid(x,y)\n",
    "Z = torch.empty(grid_x.size())\n",
    "for k in range(grid_x.size(0)):\n",
    "    for l in range(0, n, mini_batch_size):        \n",
    "        xx = grid_x[k][l:l+mini_batch_size].t().resize_((mini_batch_size,1))\n",
    "        yy = grid_y[k][l:l+mini_batch_size].t().resize_((mini_batch_size,1))\n",
    "        e = torch.cat([xx, yy], 1)\n",
    "        \n",
    "        if model.loss.is_MSE():\n",
    "            # MSE Loss\n",
    "            Z[k][l:l+mini_batch_size] = model.forward(e).resize(mini_batch_size)\n",
    "        else:\n",
    "            # Cross Entropy loss\n",
    "            output = model.forward(e)\n",
    "            output = soft_max(output)\n",
    "\n",
    "            second_column = torch.tensor([1])\n",
    "            Z[k][l:l+mini_batch_size] = output.index_select(1,second_column).resize(mini_batch_size)"
   ]
  },
  {
   "cell_type": "code",
   "execution_count": null,
   "metadata": {},
   "outputs": [],
   "source": [
    "def showTensor(aTensor):\n",
    "    plt.figure(1)\n",
    "    figure, axes = plt.subplots()\n",
    "    color_map = plt.cm.get_cmap('RdYlBu')\n",
    "    reversed_color_map = color_map.reversed()\n",
    "    \n",
    "    im = imshow(aTensor.numpy(), origin='lower', extent=[0,1,0,1], cmap=reversed_color_map)\n",
    "    \n",
    "    #cset = contour(aTensor,arange(0.5,1.5,1),linewidths=1.0,\n",
    "    #                   origin='lower', extent=[0,1,0,1])\n",
    "    #clabel(cset,inline=True,fmt='%1.1f',fontsize=10)\n",
    "    \n",
    "    # Radius of our circle\n",
    "    axes = plt.gca()\n",
    "    R = 1 / math.sqrt(2 * math.pi)\n",
    "    Drawing_uncolored_circle = plt.Circle((0.5, 0.5 ), R, fill=False, linestyle = '--', label='Target circle')\n",
    "    axes.set_aspect(1)\n",
    "    axes.add_artist(Drawing_uncolored_circle)\n",
    "    \n",
    "    plt.xlabel('x')\n",
    "    plt.ylabel('y')\n",
    "    plt.title('Plot of the results given by the trained model')\n",
    "    plt.legend()\n",
    "    plt.legend(handles=[Drawing_uncolored_circle], loc='upper right')\n",
    "    \n",
    "    colorbar(im)\n",
    "    plt.savefig('Final.jpg')\n",
    "\n",
    "\n",
    "showTensor(Z);\n",
    "\n",
    "plt.figure(2)\n",
    "Label=train_classes.view(-1).float() # 1- to display the other label\n",
    "x1=(train_input.narrow(1,0,1).view(-1)*Label);\n",
    "y1=(train_input.narrow(1,1,1).view(-1)*Label);\n",
    "x0=(train_input.narrow(1,0,1).view(-1)*(1-Label));\n",
    "y0=(train_input.narrow(1,1,1).view(-1)*(1-Label));\n",
    "plt.figure(num=None, figsize=(8, 4), dpi=80, facecolor='w', edgecolor='k')\n",
    "\n",
    "plt.gca().set_aspect('equal', adjustable='box')\n",
    "axes = plt.gca();\n",
    "Lab0, = plt.plot(x1, y1, 'C3o', label='Label 0');\n",
    "Lab1, = plt.plot(x0, y0, 'C0o', label='Label 1');\n",
    "plt.xlabel('x')\n",
    "plt.ylabel('y')\n",
    "\n",
    "R = 1 / math.sqrt(2 * math.pi)\n",
    "Drawing_uncolored_circle = plt.Circle((0.5, 0.5 ), R, fill=False, linestyle = '--', label='Target circle')\n",
    "axes.set_aspect(1)\n",
    "axes.add_artist(Drawing_uncolored_circle)\n",
    "\n",
    "plt.title('Plot of train set and the target cicle')\n",
    "plt.legend()\n",
    "plt.legend(handles=[Lab1, Lab0, Drawing_uncolored_circle], loc='upper right')\n",
    "axes.set_xlim([0,1]);\n",
    "axes.set_ylim([0,1]);\n",
    "plt.savefig('Train.jpg')"
   ]
  },
  {
   "cell_type": "code",
   "execution_count": null,
   "metadata": {},
   "outputs": [],
   "source": []
  }
 ],
 "metadata": {
  "kernelspec": {
   "display_name": "Python 3",
   "language": "python",
   "name": "python3"
  },
  "language_info": {
   "codemirror_mode": {
    "name": "ipython",
    "version": 3
   },
   "file_extension": ".py",
   "mimetype": "text/x-python",
   "name": "python",
   "nbconvert_exporter": "python",
   "pygments_lexer": "ipython3",
   "version": "3.8.3"
  }
 },
 "nbformat": 4,
 "nbformat_minor": 5
}
